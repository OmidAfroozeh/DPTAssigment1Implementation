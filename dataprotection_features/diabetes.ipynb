{
 "cells": [
  {
   "cell_type": "markdown",
   "metadata": {
    "collapsed": true,
    "pycharm": {
     "name": "#%% md\n"
    }
   },
   "source": [
    "# Applying data minimization to a trained regression ML model"
   ]
  },
  {
   "cell_type": "markdown",
   "metadata": {},
   "source": [
    "In this tutorial we will show how to perform data minimization for regression ML models using the minimization module.\n",
    "\n",
    "We will show you applying data minimization to a different trained regression models."
   ]
  },
  {
   "cell_type": "markdown",
   "metadata": {
    "pycharm": {
     "name": "#%% md\n"
    }
   },
   "source": [
    "## Load data\n",
    "QI parameter determines which features will be minimized."
   ]
  },
  {
   "cell_type": "code",
   "execution_count": 1,
   "metadata": {
    "pycharm": {
     "name": "#%%\n"
    },
    "ExecuteTime": {
     "end_time": "2023-09-25T20:49:37.362377Z",
     "start_time": "2023-09-25T20:49:36.305243Z"
    }
   },
   "outputs": [],
   "source": [
    "from sklearn.datasets import load_diabetes\n",
    "from sklearn.model_selection import train_test_split\n",
    "import calcmetric as cm\n",
    "import anonymize_module as am\n",
    "import pandas as pd\n",
    "import warnings\n",
    "warnings.filterwarnings(\"ignore\")\n",
    "\n",
    "dataset = load_diabetes()\n",
    "X_train, X_test, y_train, y_test = train_test_split(dataset.data, dataset.target, test_size=0.5, random_state=14)\n",
    "\n",
    "features = ['age', 'sex', 'bmi', 'bp',\n",
    "                's1', 's2', 's3', 's4', 's5', 's6']\n",
    "QI = ['age', 'bmi', 's2', 's5', 's6']"
   ]
  },
  {
   "cell_type": "markdown",
   "metadata": {},
   "source": [
    "## Train DecisionTreeRegressor model"
   ]
  },
  {
   "cell_type": "code",
   "execution_count": 2,
   "metadata": {
    "pycharm": {
     "name": "#%%\n"
    },
    "ExecuteTime": {
     "end_time": "2023-09-25T20:49:38.425440Z",
     "start_time": "2023-09-25T20:49:37.363226Z"
    }
   },
   "outputs": [
    {
     "name": "stdout",
     "output_type": "stream",
     "text": [
      "Base model accuracy (R2 score):  0.15014421352446072\n"
     ]
    }
   ],
   "source": [
    "from apt.minimization import GeneralizeToRepresentative\n",
    "from sklearn.tree import DecisionTreeRegressor\n",
    "\n",
    "model1 = DecisionTreeRegressor(random_state=10, min_samples_split=2)\n",
    "model1.fit(X_train, y_train)\n",
    "print('Base model accuracy (R2 score): ', model1.score(X_test, y_test))"
   ]
  },
  {
   "cell_type": "markdown",
   "metadata": {},
   "source": [
    "## Run minimization\n",
    "We will try to run minimization with only a subset of the features."
   ]
  },
  {
   "cell_type": "code",
   "execution_count": 3,
   "metadata": {
    "pycharm": {
     "name": "#%%\n"
    },
    "ExecuteTime": {
     "end_time": "2023-09-25T20:49:40.162228Z",
     "start_time": "2023-09-25T20:49:38.426007Z"
    }
   },
   "outputs": [
    {
     "name": "stdout",
     "output_type": "stream",
     "text": [
      "Initial accuracy of model on generalized data, relative to original model predictions (base generalization derived from tree, before improvements): 0.108922\n",
      "Improving accuracy\n",
      "feature to remove: s5\n",
      "Removed feature: s5, new relative accuracy: 0.505498\n",
      "feature to remove: bmi\n",
      "Removed feature: bmi, new relative accuracy: 0.716972\n",
      "Accuracy on minimized data:  0.1116122925781402\n",
      "generalizations:  {'ranges': {'age': [-0.07090024650096893, -0.043656209483742714, -0.041839939542114735, -0.03639113181270659, -0.01459590089507401, -0.012779632292222232, -0.009147093165665865, -0.0036982858437113464, 0.03989217430353165, 0.039892176166176796, 0.05623859912157059, 0.06713621318340302], 's2': [-0.0550188384950161, -0.0285577941685915, -0.024643437936902046, -0.02135537937283516, -0.013683241792023182, -0.006480826530605555, 0.009176596067845821, 0.023111702874302864, 0.02420772146433592, 0.02655633445829153, 0.039082273840904236], 's6': [-0.052854035049676895, -0.03835666086524725, -0.02593033987795934, -0.021788232028484344, -0.01350401807576418, -0.003148751042317599, 0.005135462852194905, 0.01756178360665217, 0.021703890524804592, 0.02998810407007113, 0.03205915819853544, 0.0486275851726532]}, 'categories': {}, 'untouched': ['s5', 'sex', 'bp', 's3', 's1', 'bmi', 's4'], 'category_representatives': {}, 'range_representatives': {'age': [-0.07090024650096893, -0.09269547780327612, -0.04910501639104307, 0.0027244038647040725, -0.03820740103798481, -0.027309785684926546, 0.0018162695632781833, -0.009147093429829445, 0.021795230073621497, 0.009015598825267658, 0.008173211477696896, 0.04170844488444244], 's2': [-0.0550188384950161, -0.07239857825244314, -0.03607335668485709, -0.02480001206043385, -0.02448686359864431, -0.014466112821379181, 0.007828711299225688, 0.00463594334778245, 0.019667069513680118, 0.024051147978733624, 0.02499059336410222], 's6': [-0.052854035049676895, -0.06735140813781726, -0.04664087356364498, -0.03835665973397607, -0.025930338989472702, -0.013504018244969336, -0.009361911330134878, -0.0010776975004659671, 0.0113486232440374, 0.004142106772633269, 0.02377494398854077, 0.03205915781820968]}}\n"
     ]
    }
   ],
   "source": [
    "# note that is_regression param is True\n",
    "\n",
    "minimizer1 = GeneralizeToRepresentative(model1, target_accuracy=0.7, is_regression=True,\n",
    "                                    features_to_minimize=QI)\n",
    "\n",
    "# Fitting the minimizar can be done either on training or test data. Doing it with test data is better as the\n",
    "# resulting accuracy on test data will be closer to the desired target accuracy (when working with training\n",
    "# data it could result in a larger gap)\n",
    "# Don't forget to leave a hold-out set for final validation!\n",
    "X_generalizer_train1, x_test1, y_generalizer_train1, y_test1 = train_test_split(X_test, y_test,\n",
    "                                                                test_size = 0.4, random_state = 38)\n",
    "\n",
    "x_train_predictions1 = model1.predict(X_generalizer_train1)\n",
    "minimizer1.fit(X_generalizer_train1, x_train_predictions1, features_names=features)\n",
    "transformed1 = minimizer1.transform(x_test1, features_names=features)\n",
    "print('Accuracy on minimized data: ', model1.score(transformed1, y_test1))\n",
    "print('generalizations: ',minimizer1.generalizations)#%% md"
   ]
  },
  {
   "cell_type": "markdown",
   "metadata": {
    "pycharm": {
     "name": "#%% md\n"
    }
   },
   "source": [
    "## Train linear regression model"
   ]
  },
  {
   "cell_type": "code",
   "execution_count": 4,
   "metadata": {
    "pycharm": {
     "name": "#%%\n"
    },
    "ExecuteTime": {
     "end_time": "2023-09-25T20:49:40.167194Z",
     "start_time": "2023-09-25T20:49:40.163786Z"
    }
   },
   "outputs": [
    {
     "name": "stdout",
     "output_type": "stream",
     "text": [
      "Base model accuracy (R2 score):  0.5080563960651392\n"
     ]
    }
   ],
   "source": [
    "from sklearn.linear_model import LinearRegression\n",
    "from apt.minimization import GeneralizeToRepresentative\n",
    "\n",
    "model2 = LinearRegression()\n",
    "model2.fit(X_train, y_train)\n",
    "print('Base model accuracy (R2 score): ', model2.score(X_test, y_test))"
   ]
  },
  {
   "cell_type": "markdown",
   "metadata": {},
   "source": [
    "## Run minimization\n",
    "We will try to run minimization with only a subset of the features."
   ]
  },
  {
   "cell_type": "code",
   "execution_count": 5,
   "metadata": {
    "pycharm": {
     "name": "#%%\n"
    },
    "ExecuteTime": {
     "end_time": "2023-09-25T20:49:42.329247Z",
     "start_time": "2023-09-25T20:49:40.169459Z"
    }
   },
   "outputs": [
    {
     "name": "stdout",
     "output_type": "stream",
     "text": [
      "Initial accuracy of model on generalized data, relative to original model predictions (base generalization derived from tree, before improvements): 0.201734\n",
      "Improving accuracy\n",
      "feature to remove: s5\n",
      "Removed feature: s5, new relative accuracy: 0.292914\n",
      "feature to remove: age\n",
      "Removed feature: age, new relative accuracy: 0.291507\n",
      "feature to remove: s2\n",
      "Removed feature: s2, new relative accuracy: 0.947873\n",
      "Accuracy on minimized data:  0.46523158691549726\n",
      "generalizations:  {'ranges': {'bmi': [-0.0660245232284069, -0.06171327643096447, -0.048779530450701714, -0.04770171828567982, -0.036923596635460854, -0.022912041284143925, -0.01644516922533512, -0.015906263142824173, -0.009978296235203743, 0.007266696775332093, 0.022356065921485424, 0.028822937980294228, 0.04499012045562267, 0.053073709830641747, 0.10103634744882584], 's6': [-0.07356456853449345, -0.052854035049676895, -0.048711927607655525, -0.046640874817967415, -0.044569820165634155, -0.0383566590026021, -0.021788232028484344, -0.017646125052124262, -0.013504017610102892, -0.0031487508676946163, 0.02377494378015399, 0.06519601307809353, 0.08383549377322197]}, 'categories': {}, 'untouched': ['s5', 'sex', 'bp', 's3', 's2', 's1', 'age', 's4'], 'category_representatives': {}, 'range_representatives': {'bmi': [-0.0660245232284069, -0.09027529589850945, 0.006466872990131378, -0.05794093368208547, 0.005389060825109482, -0.04392937672163507, -0.03099563183506548, -0.022373135244019075, 0.002963983453810215, -0.015906262800734303, -0.002972517914164677, 0.0175059114895705, 0.028284032228378497, 0.030439656376140087, 0.04768464955823289], 's6': [-0.07356456853449345, -0.092204049626824, -0.05906719430814835, 0.0010355263948440552, 0.0010355273261666298, -0.04664087356364498, -0.03835665973397607, -0.025930338989472702, -0.01764612515980379, -0.013504018244969336, -0.009361911330134878, 0.0030644094143684884, 0.040343371647878594]}}\n"
     ]
    }
   ],
   "source": [
    "# note that is_regression param is True\n",
    "\n",
    "minimizer2 = GeneralizeToRepresentative(model2, target_accuracy=0.7, is_regression=True,\n",
    "                                    features_to_minimize=QI)\n",
    "\n",
    "# Fitting the minimizar can be done either on training or test data. Doing it with test data is better as the\n",
    "# resulting accuracy on test data will be closer to the desired target accuracy (when working with training\n",
    "# data it could result in a larger gap)\n",
    "# Don't forget to leave a hold-out set for final validation!\n",
    "X_generalizer_train2, x_test2, y_generalizer_train2, y_test2 = train_test_split(X_test, y_test,\n",
    "                                                                test_size = 0.4, random_state = 38)\n",
    "\n",
    "x_train_predictions2 = model2.predict(X_generalizer_train2)\n",
    "minimizer2.fit(X_generalizer_train2, x_train_predictions2, features_names=features)\n",
    "transformed2 = minimizer2.transform(x_test2, features_names=features)\n",
    "print('Accuracy on minimized data: ', model2.score(transformed2, y_test2))\n",
    "print('generalizations: ',minimizer2.generalizations)"
   ]
  },
  {
   "cell_type": "markdown",
   "source": [
    "## Calculate anonymization metrics\n",
    "We'll measure different metrics for the transformed dataset\n"
   ],
   "metadata": {
    "collapsed": false
   }
  },
  {
   "cell_type": "code",
   "execution_count": 6,
   "outputs": [
    {
     "name": "stdout",
     "output_type": "stream",
     "text": [
      "Dataset satisfies 1-anonymity\n",
      "Dataset does not satisfy 2-anonymity\n",
      "Dataset satisfies maximum 1-anonymity\n"
     ]
    },
    {
     "data": {
      "text/plain": "1"
     },
     "execution_count": 6,
     "metadata": {},
     "output_type": "execute_result"
    }
   ],
   "source": [
    "df = pd.DataFrame(transformed2, columns=features)\n",
    "df['sensval'] = y_test2\n",
    "\n",
    "# find maximum k-value for which k-anonymity is still satisfied\n",
    "cm.find_k_anonymity(df, QI)"
   ],
   "metadata": {
    "collapsed": false,
    "ExecuteTime": {
     "end_time": "2023-09-25T20:49:42.336674Z",
     "start_time": "2023-09-25T20:49:42.332880Z"
    }
   }
  },
  {
   "cell_type": "markdown",
   "source": [
    "## K-Anonymize\n",
    "As seen, the dataset is not anonymized\n",
    "To anonymize the dataset, call k-anonymize function"
   ],
   "metadata": {
    "collapsed": false
   }
  },
  {
   "cell_type": "code",
   "execution_count": 7,
   "outputs": [
    {
     "name": "stdout",
     "output_type": "stream",
     "text": [
      "=========Start anonymization process:\n",
      "Partition the dataset:\n",
      "8 partitions created.\n",
      "Changing quasi-identifiers values with the aggregation of their partition\n",
      "Showcasing some of the anonymized partition:\n",
      "Partition 7\n",
      "+----+-----------+------------+-----------+------------+------------+-----------+-------------+-------------+-----------+-----------+-----------+\n",
      "|    |       age |        sex |       bmi |         bp |         s1 |        s2 |          s3 |          s4 |        s5 |        s6 |   sensval |\n",
      "|----+-----------+------------+-----------+------------+------------+-----------+-------------+-------------+-----------+-----------+-----------|\n",
      "|  0 | 0.0380759 |  0.0506801 | 0.0161586 | -0.0641989 | 0.0699806  | 0.0560967 | -0.0397192  |  0.07121    | 0.0401722 | 0.0210135 |       116 |\n",
      "|  4 | 0.0380759 | -0.0446416 | 0.0161586 | -0.0538703 | 0.0631008  | 0.0560967 | -0.0102661  |  0.0343089  | 0.0401722 | 0.0210135 |       164 |\n",
      "| 11 | 0.0380759 | -0.0446416 | 0.0161586 |  0.0631866 | 0.0617249  | 0.0560967 |  0.00814208 | -0.00259226 | 0.0401722 | 0.0210135 |       248 |\n",
      "| 32 | 0.0380759 | -0.0446416 | 0.0161586 | -0.015999  | 0.125019   | 0.0560967 |  0.019187   |  0.0343089  | 0.0401722 | 0.0210135 |       219 |\n",
      "| 33 | 0.0380759 | -0.0446416 | 0.0161586 |  0.101058  | 0.0465894  | 0.0560967 |  0.0155054  | -0.00259226 | 0.0401722 | 0.0210135 |       296 |\n",
      "| 46 | 0.0380759 |  0.0506801 | 0.0161586 |  0.0631866 | 0.0149425  | 0.0560967 | -0.0470825  |  0.0343089  | 0.0401722 | 0.0210135 |       297 |\n",
      "| 51 | 0.0380759 | -0.0446416 | 0.0161586 |  0.0218724 | 0.00806271 | 0.0560967 | -0.0360376  |  0.0343089  | 0.0401722 | 0.0210135 |       173 |\n",
      "| 56 | 0.0380759 | -0.0446416 | 0.0161586 | -0.015999  | 0.0121906  | 0.0560967 | -0.0765356  |  0.108111   | 0.0401722 | 0.0210135 |       233 |\n",
      "| 68 | 0.0380759 |  0.0506801 | 0.0161586 |  0.0494152 | 0.0534692  | 0.0560967 | -0.0691723  |  0.145012   | 0.0401722 | 0.0210135 |       248 |\n",
      "| 78 | 0.0380759 | -0.0446416 | 0.0161586 |  0.0356438 | 0.0796123  | 0.0560967 |  0.0155054  |  0.0343089  | 0.0401722 | 0.0210135 |        67 |\n",
      "| 80 | 0.0380759 | -0.0446416 | 0.0161586 | -0.084856  | 0.0754844  | 0.0560967 |  0.00446045 |  0.0343089  | 0.0401722 | 0.0210135 |       115 |\n",
      "| 85 | 0.0380759 | -0.0446416 | 0.0161586 | -0.0332132 | 0.0410856  | 0.0560967 | -0.00290283 | -0.00259226 | 0.0401722 | 0.0210135 |       242 |\n",
      "+----+-----------+------------+-----------+------------+------------+-----------+-------------+-------------+-----------+-----------+-----------+\n",
      "Partition 3\n",
      "+----+------------+------------+-----------+-------------+-------------+-----------+--------------+--------------+-----------+-----------+-----------+\n",
      "|    |        age |        sex |       bmi |          bp |          s1 |        s2 |           s3 |           s4 |        s5 |        s6 |   sensval |\n",
      "|----+------------+------------+-----------+-------------+-------------+-----------+--------------+--------------+-----------+-----------+-----------|\n",
      "|  1 | -0.0240075 | -0.0446416 | 0.0548374 |  0.01268    |  0.0204463  | 0.0483059 |  0.000778808 |  0.000359828 | 0.0235032 | 0.0222687 |       200 |\n",
      "| 13 | -0.0240075 |  0.0506801 | 0.0548374 |  0.0976151  |  0.0163184  | 0.0483059 | -0.021311    |  0.0343089   | 0.0235032 | 0.0222687 |       308 |\n",
      "| 24 | -0.0240075 | -0.0446416 | 0.0548374 | -0.0366561  |  0.0919958  | 0.0483059 | -0.061809    |  0.145012    | 0.0235032 | 0.0222687 |       306 |\n",
      "| 37 | -0.0240075 | -0.0446416 | 0.0548374 |  0.0987512  | -0.00294491 | 0.0483059 | -0.0176294   |  0.00331192  | 0.0235032 | 0.0222687 |       257 |\n",
      "| 42 | -0.0240075 |  0.0506801 | 0.0548374 |  0.0700723  |  0.133274   | 0.0483059 | -0.0397192   |  0.108111    | 0.0235032 | 0.0222687 |       217 |\n",
      "| 55 | -0.0240075 |  0.0506801 | 0.0548374 |  0.0976151  |  0.087868   | 0.0483059 | -0.021311    |  0.07121     | 0.0235032 | 0.0222687 |       252 |\n",
      "| 59 | -0.0240075 | -0.0446416 | 0.0548374 |  0.0356438  | -0.00156896 | 0.0483059 | -0.0139477   |  0.000728839 | 0.0235032 | 0.0222687 |       109 |\n",
      "| 71 | -0.0240075 |  0.0506801 | 0.0548374 | -0.00222757 |  0.0617249  | 0.0483059 | -0.0581274   |  0.108111    | 0.0235032 | 0.0222687 |       268 |\n",
      "| 77 | -0.0240075 |  0.0506801 | 0.0548374 |  0.052858   |  0.0397096  | 0.0483059 | -0.0397192   |  0.07121     | 0.0235032 | 0.0222687 |       222 |\n",
      "| 86 | -0.0240075 | -0.0446416 | 0.0548374 | -0.00911327 |  0.0190703  | 0.0483059 |  0.0744116   | -0.0394934   | 0.0235032 | 0.0222687 |        60 |\n",
      "| 88 | -0.0240075 | -0.0446416 | 0.0548374 |  0.00121528 |  0.0163184  | 0.0483059 | -0.0286743   |  0.0265596   | 0.0235032 | 0.0222687 |       220 |\n",
      "+----+------------+------------+-----------+-------------+-------------+-----------+--------------+--------------+-----------+-----------+-----------+\n",
      "Partition 5\n",
      "+----+-----------+------------+-------------+-------------+--------------+-----------+-------------+-------------+------------+------------+-----------+\n",
      "|    |       age |        sex |         bmi |          bp |           s1 |        s2 |          s3 |          s4 |         s5 |         s6 |   sensval |\n",
      "|----+-----------+------------+-------------+-------------+--------------+-----------+-------------+-------------+------------+------------+-----------|\n",
      "|  3 | 0.0489735 | -0.0446416 | -0.00234379 |  0.00121528 | -0.00982468  | 0.0259039 |  0.0155054  | -0.0394934  | -0.0231812 | 0.00202888 |       141 |\n",
      "| 12 | 0.0489735 |  0.0506801 | -0.00234379 |  0.0425295  | -0.030464    | 0.0259039 | -0.0434008  | -0.00259226 | -0.0231812 | 0.00202888 |       118 |\n",
      "| 18 | 0.0489735 |  0.0506801 | -0.00234379 | -0.084856   | -0.00707277  | 0.0259039 | -0.0544458  |  0.0343089  | -0.0231812 | 0.00202888 |       102 |\n",
      "| 38 | 0.0489735 |  0.0506801 | -0.00234379 | -0.0424056  |  0.00668676  | 0.0259039 | -0.0691723  |  0.0808043  | -0.0231812 | 0.00202888 |        89 |\n",
      "| 49 | 0.0489735 | -0.0446416 | -0.00234379 | -0.0687779  | -0.000193007 | 0.0259039 |  0.0449585  | -0.0376483  | -0.0231812 | 0.00202888 |        72 |\n",
      "| 52 | 0.0489735 |  0.0506801 | -0.00234379 |  0.076958   | -0.00844872  | 0.0259039 | -0.00658447 | -0.00259226 | -0.0231812 | 0.00202888 |       131 |\n",
      "| 53 | 0.0489735 |  0.0506801 | -0.00234379 | -0.0228847  | -0.00432087  | 0.0259039 | -0.061809   |  0.07121    | -0.0231812 | 0.00202888 |       168 |\n",
      "| 54 | 0.0489735 | -0.0446416 | -0.00234379 |  0.00810098 |  0.0053108   | 0.0259039 |  0.0302319  | -0.0394934  | -0.0231812 | 0.00202888 |        49 |\n",
      "| 65 | 0.0489735 |  0.0506801 | -0.00234379 |  0.0563009  |  0.0644768   | 0.0259039 | -0.0397192  |  0.07121    | -0.0231812 | 0.00202888 |       138 |\n",
      "| 69 | 0.0489735 | -0.0446416 | -0.00234379 | -0.0263275  |  0.0988756   | 0.0259039 |  0.0707299  | -0.00259226 | -0.0231812 | 0.00202888 |        84 |\n",
      "| 70 | 0.0489735 |  0.0506801 | -0.00234379 | -0.0332132  | -0.0455995   | 0.0259039 | -0.0507641  | -0.00259226 | -0.0231812 | 0.00202888 |       145 |\n",
      "| 79 | 0.0489735 | -0.0446416 | -0.00234379 |  0.0356438  |  0.0493413   | 0.0259039 |  0.0707299  | -0.0394934  | -0.0231812 | 0.00202888 |        73 |\n",
      "+----+-----------+------------+-------------+-------------+--------------+-----------+-------------+-------------+------------+------------+-----------+\n",
      "Anonymized dataset generated\n",
      "Dataset satisfies 1-anonymity\n",
      "Dataset satisfies 2-anonymity\n",
      "Dataset satisfies 3-anonymity\n",
      "Dataset satisfies 4-anonymity\n",
      "Dataset satisfies 5-anonymity\n",
      "Dataset satisfies 6-anonymity\n",
      "Dataset satisfies 7-anonymity\n",
      "Dataset satisfies 8-anonymity\n",
      "Dataset satisfies 9-anonymity\n",
      "Dataset satisfies 10-anonymity\n",
      "Dataset does not satisfy 11-anonymity\n",
      "Dataset satisfies maximum 10-anonymity\n"
     ]
    },
    {
     "data": {
      "text/plain": "10"
     },
     "execution_count": 7,
     "metadata": {},
     "output_type": "execute_result"
    }
   ],
   "source": [
    "k_anonymdf = am.anonymize_k_anonymity(df, QI, 'sensval', k=10)\n",
    "cm.find_k_anonymity(k_anonymdf, QI)\n"
   ],
   "metadata": {
    "collapsed": false,
    "ExecuteTime": {
     "end_time": "2023-09-25T20:49:42.391Z",
     "start_time": "2023-09-25T20:49:42.341103Z"
    }
   }
  }
 ],
 "metadata": {
  "kernelspec": {
   "display_name": "Python 3",
   "language": "python",
   "name": "python3"
  },
  "language_info": {
   "codemirror_mode": {
    "name": "ipython",
    "version": 3
   },
   "file_extension": ".py",
   "mimetype": "text/x-python",
   "name": "python",
   "nbconvert_exporter": "python",
   "pygments_lexer": "ipython3",
   "version": "3.8.3"
  }
 },
 "nbformat": 4,
 "nbformat_minor": 1
}
