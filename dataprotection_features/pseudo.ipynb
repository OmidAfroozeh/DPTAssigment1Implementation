{
 "cells": [
  {
   "cell_type": "markdown",
   "source": [
    "## Pseudonymization \n",
    "If one of the column of the dataset contains PII, it's possible to use this pseudonymize the column by using this feature\n",
    "It achieves this by applying a hashing function to the column"
   ],
   "metadata": {
    "collapsed": false
   },
   "id": "6a7c28f12daf3b10"
  },
  {
   "cell_type": "code",
   "execution_count": 1,
   "id": "initial_id",
   "metadata": {
    "collapsed": true,
    "ExecuteTime": {
     "end_time": "2023-09-25T20:57:21.678295Z",
     "start_time": "2023-09-25T20:57:21.338021Z"
    }
   },
   "outputs": [
    {
     "name": "stdout",
     "output_type": "stream",
     "text": [
      "                                                name  age\n",
      "0  96d9632f363564cc3032521409cf22a852f2032eec099e...   50\n",
      "1  ee5cd7d5d96c8874117891b2c92a036f96918e66c102bc...   40\n",
      "2  2bd806c97f0e00af1a1fc3328fa763a9269723c8db8fac...   45\n",
      "{'john': '96d9632f363564cc3032521409cf22a852f2032eec099ed5967c0d000cec607a', 'pedro': 'ee5cd7d5d96c8874117891b2c92a036f96918e66c102bc698ae77542c186f981', 'alice': '2bd806c97f0e00af1a1fc3328fa763a9269723c8db8fac4f93af71db186d6e90'}\n"
     ]
    }
   ],
   "source": [
    "import pandas as pd\n",
    "import pseudo as pse\n",
    "data  = {\n",
    "  \"name\": ['john', 'pedro', 'alice'],\n",
    "  \"age\": [50, 40, 45]\n",
    "}\n",
    "\n",
    "df = pd.DataFrame(data)\n",
    "\n",
    "(t,d) = pse.pseudonymize_column(df, 'name')\n",
    "print(d)\n",
    "print(t)\n"
   ]
  },
  {
   "cell_type": "code",
   "execution_count": 1,
   "outputs": [],
   "source": [],
   "metadata": {
    "collapsed": false,
    "ExecuteTime": {
     "end_time": "2023-09-25T20:57:21.682109Z",
     "start_time": "2023-09-25T20:57:21.678489Z"
    }
   },
   "id": "ead8f154651c389a"
  }
 ],
 "metadata": {
  "kernelspec": {
   "display_name": "Python 3",
   "language": "python",
   "name": "python3"
  },
  "language_info": {
   "codemirror_mode": {
    "name": "ipython",
    "version": 2
   },
   "file_extension": ".py",
   "mimetype": "text/x-python",
   "name": "python",
   "nbconvert_exporter": "python",
   "pygments_lexer": "ipython2",
   "version": "2.7.6"
  }
 },
 "nbformat": 4,
 "nbformat_minor": 5
}
