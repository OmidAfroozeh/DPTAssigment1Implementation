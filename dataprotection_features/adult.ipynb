{
 "cells": [
  {
   "cell_type": "markdown",
   "metadata": {},
   "source": [
    "# Applying data minimization to a trained ML model"
   ]
  },
  {
   "cell_type": "markdown",
   "metadata": {},
   "source": [
    "In this tutorial we will show how to perform data minimization for ML models using the minimization module. \n",
    "\n",
    "This will be demonstarted using the Adult dataset (original dataset can be found here: https://archive.ics.uci.edu/ml/datasets/adult). \n",
    "\n",
    "We use only the numerical features in the dataset because this is what is currently supported by the module.\n",
    "\n",
    "Furthermore, We will explore how to use the anonymization features to further increase the data protection capabilities of the solution"
   ]
  },
  {
   "cell_type": "markdown",
   "metadata": {},
   "source": [
    "## Load data"
   ]
  },
  {
   "cell_type": "code",
   "execution_count": 1,
   "metadata": {
    "ExecuteTime": {
     "end_time": "2023-09-25T21:29:19.333800Z",
     "start_time": "2023-09-25T21:29:16.546416Z"
    }
   },
   "outputs": [],
   "source": [
    "import numpy as np\n",
    "import pandas as pd\n",
    "import warnings\n",
    "import anonymize_module as an\n",
    "import os\n",
    "import sys\n",
    "import calcmetric as cm\n",
    "sys.path.insert(0, os.path.abspath('..'))\n",
    "from apt.utils.datasets import ArrayDataset\n",
    "from apt.utils.models import SklearnClassifier, ModelOutputType\n",
    "from sklearn.tree import DecisionTreeClassifier\n",
    "\n",
    "warnings.filterwarnings('ignore', category=UserWarning)\n",
    "warnings.filterwarnings('ignore', category=FutureWarning)\n",
    "# Use only numeric features (age, education-num, capital-gain, capital-loss, hours-per-week)\n",
    "\n",
    "\n",
    "x_train = np.loadtxt(\"https://archive.ics.uci.edu/ml/machine-learning-databases/adult/adult.data\",\n",
    "                        usecols=(0, 4, 10, 11, 12), delimiter=\",\")\n",
    "\n",
    "y_train = np.loadtxt(\"https://archive.ics.uci.edu/ml/machine-learning-databases/adult/adult.data\",\n",
    "                        usecols=14, dtype=str, delimiter=\",\")\n",
    "\n",
    "\n",
    "x_test = np.loadtxt(\"https://archive.ics.uci.edu/ml/machine-learning-databases/adult/adult.test\",\n",
    "                        usecols=(0, 4, 10, 11, 12), delimiter=\",\", skiprows=1)\n",
    "\n",
    "y_test = np.loadtxt(\"https://archive.ics.uci.edu/ml/machine-learning-databases/adult/adult.test\",\n",
    "                        usecols=14, dtype=str, delimiter=\",\", skiprows=1)\n",
    "\n",
    "x_train = x_train[:1500]\n",
    "y_train = y_train[:1500]\n",
    "x_test = x_test[:1500]\n",
    "y_test = y_test[:1500]\n",
    "\n",
    "# Trim trailing period \".\" from label\n",
    "y_test = np.array([a[:-1] for a in y_test])\n",
    "y_train[y_train == ' <=50K'] = 0\n",
    "y_train[y_train == ' >50K'] = 1\n",
    "y_train = y_train.astype(int)\n",
    "\n",
    "y_test[y_test == ' <=50K'] = 0\n",
    "y_test[y_test == ' >50K'] = 1\n",
    "y_test = y_test.astype(int)\n"
   ]
  },
  {
   "cell_type": "markdown",
   "metadata": {},
   "source": [
    "## Train decision tree model"
   ]
  },
  {
   "cell_type": "code",
   "execution_count": 2,
   "metadata": {
    "ExecuteTime": {
     "end_time": "2023-09-25T21:29:19.354973Z",
     "start_time": "2023-09-25T21:29:19.341481Z"
    }
   },
   "outputs": [
    {
     "name": "stdout",
     "output_type": "stream",
     "text": [
      "Base model accuracy:  0.766\n"
     ]
    }
   ],
   "source": [
    "import os\n",
    "import sys\n",
    "sys.path.insert(0, os.path.abspath('..'))\n",
    "\n",
    "from apt.utils.datasets import ArrayDataset\n",
    "from apt.utils.models import SklearnClassifier, ModelOutputType\n",
    "from sklearn.tree import DecisionTreeClassifier\n",
    "\n",
    "base_est = DecisionTreeClassifier()\n",
    "model = SklearnClassifier(base_est, ModelOutputType.CLASSIFIER_PROBABILITIES)\n",
    "model.fit(ArrayDataset(x_train, y_train))\n",
    "\n",
    "print('Base model accuracy: ', model.score(ArrayDataset(x_test, y_test)))"
   ]
  },
  {
   "cell_type": "markdown",
   "metadata": {},
   "source": [
    "## Run minimization\n",
    "We will try to run minimization with different possible values of target accuracy (how close to the original model's accuracy we want to get, 1 being same accuracy as for original data)."
   ]
  },
  {
   "cell_type": "code",
   "execution_count": 3,
   "metadata": {
    "ExecuteTime": {
     "end_time": "2023-09-25T21:29:30.571030Z",
     "start_time": "2023-09-25T21:29:19.423904Z"
    }
   },
   "outputs": [
    {
     "name": "stdout",
     "output_type": "stream",
     "text": [
      "Initial accuracy of model on generalized data, relative to original model predictions (base generalization derived from tree, before improvements): 0.838889\n",
      "Improving accuracy\n",
      "feature to remove: 2\n",
      "Removed feature: 2, new relative accuracy: 0.841667\n",
      "feature to remove: 3\n",
      "Removed feature: 3, new relative accuracy: 0.841667\n",
      "feature to remove: 0\n",
      "Removed feature: 0, new relative accuracy: 0.883333\n",
      "feature to remove: 1\n",
      "Removed feature: 1, new relative accuracy: 0.952778\n",
      "feature to remove: 4\n",
      "Removed feature: 4, new relative accuracy: 1.000000\n",
      "Accuracy on minimized data:  0.7833333333333333\n"
     ]
    }
   ],
   "source": [
    "from apt.minimization import GeneralizeToRepresentative\n",
    "from sklearn.model_selection import train_test_split\n",
    "\n",
    "# default target_accuracy is 0.998\n",
    "minimizer = GeneralizeToRepresentative(model)\n",
    "\n",
    "# Fitting the minimizar can be done either on training or test data. Doing it with test data is better as the \n",
    "# resulting accuracy on test data will be closer to the desired target accuracy (when working with training \n",
    "# data it could result in a larger gap)\n",
    "# Don't forget to leave a hold-out set for final validation!\n",
    "X_generalizer_train, x_test, y_generalizer_train, y_test = train_test_split(x_test, y_test, stratify=y_test,\n",
    "                                                                test_size = 0.4, random_state = 38)\n",
    "x_train_predictions = model.predict(ArrayDataset(X_generalizer_train))\n",
    "if x_train_predictions.shape[1] > 1:\n",
    "    x_train_predictions = np.argmax(x_train_predictions, axis=1)\n",
    "minimizer.fit(dataset=ArrayDataset(X_generalizer_train, x_train_predictions))\n",
    "transformed = minimizer.transform(dataset=ArrayDataset(x_test))\n",
    "\n",
    "print('Accuracy on minimized data: ', model.score(ArrayDataset(transformed, y_test)))"
   ]
  },
  {
   "cell_type": "markdown",
   "metadata": {},
   "source": [
    "#### Let's see what features were generalized"
   ]
  },
  {
   "cell_type": "code",
   "execution_count": 4,
   "metadata": {
    "ExecuteTime": {
     "end_time": "2023-09-25T21:29:30.571590Z",
     "start_time": "2023-09-25T21:29:30.569489Z"
    }
   },
   "outputs": [
    {
     "name": "stdout",
     "output_type": "stream",
     "text": [
      "{'ranges': {}, 'categories': {}, 'untouched': ['3', '1', '0', '2', '4'], 'category_representatives': {}, 'range_representatives': {}}\n"
     ]
    }
   ],
   "source": [
    "generalizations = minimizer.generalizations\n",
    "print(generalizations)"
   ]
  },
  {
   "cell_type": "markdown",
   "metadata": {},
   "source": [
    "We can see that for the default target accuracy of 0.998 of the original accuracy, no generalizations are possible (all features are left untouched, i.e., not generalized).\n",
    "\n",
    "Let's change to a slightly lower target accuracy."
   ]
  },
  {
   "cell_type": "code",
   "execution_count": 5,
   "metadata": {
    "ExecuteTime": {
     "end_time": "2023-09-25T21:29:40.938036Z",
     "start_time": "2023-09-25T21:29:30.574691Z"
    }
   },
   "outputs": [
    {
     "name": "stdout",
     "output_type": "stream",
     "text": [
      "Initial accuracy of model on generalized data, relative to original model predictions (base generalization derived from tree, before improvements): 0.838889\n",
      "Improving accuracy\n",
      "feature to remove: 2\n",
      "Removed feature: 2, new relative accuracy: 0.841667\n",
      "feature to remove: 3\n",
      "Removed feature: 3, new relative accuracy: 0.841667\n",
      "feature to remove: 0\n",
      "Removed feature: 0, new relative accuracy: 0.883333\n",
      "feature to remove: 1\n",
      "Removed feature: 1, new relative accuracy: 0.952778\n",
      "Accuracy on minimized data:  0.7683333333333333\n",
      "{'ranges': {'4': [18.0, 21.5, 22.5, 30.0, 35.0, 37.5, 38.0, 40.5, 41.0, 43.5, 46.5, 47.0, 47.5, 49.0, 51.0, 52.5, 57.5, 62.5, 65.0, 82.0]}, 'categories': {}, 'untouched': ['3', '2', '1', '0'], 'category_representatives': {}, 'range_representatives': {'4': [18.0, 12.0, 20.0, 22.0, 28.0, 35.0, 36.0, 38.0, 40.0, 1.25, 42.0, 45.0, 0.25, 0.75, 48.0, 50.0, 52.0, 55.0, 60.0, 8.5]}}\n"
     ]
    }
   ],
   "source": [
    "# We allow a 10% deviation in accuracy from the original model accuracy\n",
    "minimizer2 = GeneralizeToRepresentative(model, target_accuracy=0.9)\n",
    "\n",
    "minimizer2.fit(dataset=ArrayDataset(X_generalizer_train, x_train_predictions))\n",
    "transformed2 = minimizer2.transform(dataset=ArrayDataset(x_test))\n",
    "print('Accuracy on minimized data: ', model.score(test_data=ArrayDataset(transformed2, y_test)))\n",
    "generalizations2 = minimizer2.generalizations\n",
    "print(generalizations2)"
   ]
  },
  {
   "cell_type": "markdown",
   "source": [
    "## Construct the dataset and measure k-anonymity\n",
    "dataset consists of the transformed data and the sensitive column"
   ],
   "metadata": {
    "collapsed": false
   }
  },
  {
   "cell_type": "code",
   "execution_count": 6,
   "outputs": [
    {
     "name": "stdout",
     "output_type": "stream",
     "text": [
      "Dataset satisfies 1-anonymity\n",
      "Dataset does not satisfy 2-anonymity\n",
      "Dataset satisfies maximum 1-anonymity\n"
     ]
    },
    {
     "data": {
      "text/plain": "1"
     },
     "execution_count": 6,
     "metadata": {},
     "output_type": "execute_result"
    }
   ],
   "source": [
    "features = [\"age\", \"education-num\", \"capital-gain\", \"capital-loss\", \"hours-per-week\"]\n",
    "QI = [\"age\", \"capital-gain\", \"capital-loss\"]\n",
    "sensitive_column = 'income'\n",
    "\n",
    "df = pd.DataFrame(transformed2, columns=features)\n",
    "df[sensitive_column] = y_test\n",
    "\n",
    "# find maximum k-value for which k-anonymity is still satisfied\n",
    "cm.find_k_anonymity(df, QI)"
   ],
   "metadata": {
    "collapsed": false,
    "ExecuteTime": {
     "end_time": "2023-09-25T21:29:40.947397Z",
     "start_time": "2023-09-25T21:29:40.938909Z"
    }
   }
  },
  {
   "cell_type": "markdown",
   "source": [
    "## K-Anonymize\n",
    "As seen, the dataset is not anonymized\n",
    "To anonymize the dataset, call k-anonymize function"
   ],
   "metadata": {
    "collapsed": false
   }
  },
  {
   "cell_type": "code",
   "execution_count": 7,
   "outputs": [
    {
     "name": "stdout",
     "output_type": "stream",
     "text": [
      "=========Start anonymization process:\n",
      "Partition the dataset:\n",
      "31 partitions created.\n",
      "Changing quasi-identifiers values with the aggregation of their partition\n",
      "Showcasing some of the anonymized partition:\n",
      "Partition 7\n",
      "+-----+-------+-----------------+----------------+----------------+------------------+----------+\n",
      "|     |   age |   education-num |   capital-gain |   capital-loss |   hours-per-week |   income |\n",
      "|-----+-------+-----------------+----------------+----------------+------------------+----------|\n",
      "|   8 |    23 |              10 |              0 |              0 |               40 |        0 |\n",
      "|  16 |    23 |              13 |              0 |              0 |               43 |        0 |\n",
      "|  22 |    23 |              10 |              0 |              0 |               40 |        0 |\n",
      "|  24 |    23 |              10 |              0 |              0 |               40 |        1 |\n",
      "| 145 |    23 |               9 |              0 |              0 |               40 |        0 |\n",
      "| 157 |    23 |              13 |              0 |              0 |               43 |        0 |\n",
      "| 163 |    23 |              10 |              0 |              0 |               40 |        0 |\n",
      "| 199 |    23 |               9 |              0 |              0 |               40 |        0 |\n",
      "| 216 |    23 |              10 |              0 |              0 |               40 |        0 |\n",
      "| 224 |    23 |               9 |              0 |              0 |               40 |        0 |\n",
      "| 235 |    23 |              10 |              0 |              0 |               40 |        0 |\n",
      "| 241 |    23 |              10 |              0 |              0 |               40 |        0 |\n",
      "| 278 |    23 |               9 |              0 |              0 |               40 |        0 |\n",
      "| 301 |    23 |               7 |              0 |              0 |               40 |        0 |\n",
      "| 304 |    23 |              13 |              0 |              0 |               43 |        0 |\n",
      "| 346 |    23 |              10 |              0 |              0 |               40 |        0 |\n",
      "| 463 |    23 |               9 |              0 |              0 |               40 |        0 |\n",
      "| 470 |    23 |              10 |              0 |              0 |               40 |        0 |\n",
      "| 486 |    23 |              10 |              0 |              0 |               40 |        0 |\n",
      "| 500 |    23 |               7 |              0 |              0 |               40 |        0 |\n",
      "+-----+-------+-----------------+----------------+----------------+------------------+----------+\n",
      "Partition 25\n",
      "+-----+-------+-----------------+----------------+----------------+------------------+----------+\n",
      "|     |   age |   education-num |   capital-gain |   capital-loss |   hours-per-week |   income |\n",
      "|-----+-------+-----------------+----------------+----------------+------------------+----------|\n",
      "|   5 |    32 |               9 |        234.545 |        181.909 |               40 |        1 |\n",
      "|  83 |    32 |              10 |        234.545 |        181.909 |               40 |        0 |\n",
      "| 204 |    32 |               9 |        234.545 |        181.909 |               40 |        0 |\n",
      "| 232 |    32 |               8 |        234.545 |        181.909 |               40 |        0 |\n",
      "| 359 |    32 |               9 |        234.545 |        181.909 |               40 |        0 |\n",
      "| 400 |    32 |               3 |        234.545 |        181.909 |               40 |        0 |\n",
      "| 406 |    32 |               9 |        234.545 |        181.909 |               40 |        1 |\n",
      "| 468 |    32 |               9 |        234.545 |        181.909 |               35 |        0 |\n",
      "| 479 |    32 |              10 |        234.545 |        181.909 |               20 |        0 |\n",
      "| 511 |    32 |               9 |        234.545 |        181.909 |               35 |        0 |\n",
      "| 572 |    32 |               9 |        234.545 |        181.909 |               40 |        0 |\n",
      "+-----+-------+-----------------+----------------+----------------+------------------+----------+\n",
      "Partition 0\n",
      "+-----+---------+-----------------+----------------+----------------+------------------+----------+\n",
      "|     |     age |   education-num |   capital-gain |   capital-loss |   hours-per-week |   income |\n",
      "|-----+---------+-----------------+----------------+----------------+------------------+----------|\n",
      "|  10 | 17.6957 |              10 |              0 |              0 |               40 |        0 |\n",
      "|  18 | 17.6957 |               7 |              0 |              0 |               40 |        0 |\n",
      "|  23 | 17.6957 |              10 |              0 |              0 |               40 |        0 |\n",
      "|  58 | 17.6957 |               9 |              0 |              0 |               40 |        0 |\n",
      "|  89 | 17.6957 |               7 |              0 |              0 |               40 |        0 |\n",
      "|  96 | 17.6957 |               9 |              0 |              0 |               40 |        0 |\n",
      "| 116 | 17.6957 |              10 |              0 |              0 |               40 |        0 |\n",
      "| 141 | 17.6957 |               6 |              0 |              0 |               40 |        0 |\n",
      "| 149 | 17.6957 |               9 |              0 |              0 |               40 |        0 |\n",
      "| 174 | 17.6957 |               7 |              0 |              0 |               40 |        0 |\n",
      "| 255 | 17.6957 |               7 |              0 |              0 |               40 |        0 |\n",
      "| 262 | 17.6957 |               7 |              0 |              0 |               40 |        0 |\n",
      "| 285 | 17.6957 |              10 |              0 |              0 |               40 |        0 |\n",
      "| 295 | 17.6957 |               7 |              0 |              0 |               40 |        0 |\n",
      "| 313 | 17.6957 |               9 |              0 |              0 |               40 |        0 |\n",
      "| 336 | 17.6957 |               9 |              0 |              0 |               40 |        0 |\n",
      "| 371 | 17.6957 |               7 |              0 |              0 |               40 |        0 |\n",
      "| 402 | 17.6957 |               7 |              0 |              0 |               40 |        0 |\n",
      "| 467 | 17.6957 |               9 |              0 |              0 |               40 |        0 |\n",
      "| 483 | 17.6957 |               7 |              0 |              0 |               40 |        0 |\n",
      "| 496 | 17.6957 |              10 |              0 |              0 |               40 |        0 |\n",
      "| 547 | 17.6957 |              10 |              0 |              0 |               40 |        0 |\n",
      "| 574 | 17.6957 |               7 |              0 |              0 |               40 |        0 |\n",
      "+-----+---------+-----------------+----------------+----------------+------------------+----------+\n",
      "Anonymized dataset generated\n"
     ]
    }
   ],
   "source": [
    "k_anonymdf = an.anonymize_k_anonymity(df, QI, sensitive_column, k=10)"
   ],
   "metadata": {
    "collapsed": false,
    "ExecuteTime": {
     "end_time": "2023-09-25T21:29:41.057550Z",
     "start_time": "2023-09-25T21:29:40.947199Z"
    }
   }
  },
  {
   "cell_type": "markdown",
   "source": [
    "Let's check again"
   ],
   "metadata": {
    "collapsed": false
   }
  },
  {
   "cell_type": "code",
   "execution_count": 8,
   "outputs": [
    {
     "name": "stdout",
     "output_type": "stream",
     "text": [
      "Dataset satisfies 1-anonymity\n",
      "Dataset satisfies 2-anonymity\n",
      "Dataset satisfies 3-anonymity\n",
      "Dataset satisfies 4-anonymity\n",
      "Dataset satisfies 5-anonymity\n",
      "Dataset satisfies 6-anonymity\n",
      "Dataset satisfies 7-anonymity\n",
      "Dataset satisfies 8-anonymity\n",
      "Dataset satisfies 9-anonymity\n",
      "Dataset satisfies 10-anonymity\n",
      "Dataset does not satisfy 11-anonymity\n",
      "Dataset satisfies maximum 10-anonymity\n"
     ]
    },
    {
     "data": {
      "text/plain": "10"
     },
     "execution_count": 8,
     "metadata": {},
     "output_type": "execute_result"
    }
   ],
   "source": [
    "cm.find_k_anonymity(k_anonymdf, QI)"
   ],
   "metadata": {
    "collapsed": false,
    "ExecuteTime": {
     "end_time": "2023-09-25T21:29:41.069916Z",
     "start_time": "2023-09-25T21:29:41.058840Z"
    }
   }
  },
  {
   "cell_type": "markdown",
   "source": [
    "Now, the dataset is 10-anonymous."
   ],
   "metadata": {
    "collapsed": false
   }
  },
  {
   "cell_type": "markdown",
   "source": [
    "## L-diversity"
   ],
   "metadata": {
    "collapsed": false
   }
  },
  {
   "cell_type": "code",
   "execution_count": 9,
   "outputs": [
    {
     "name": "stdout",
     "output_type": "stream",
     "text": [
      "Dataset satisfies 1-diversity\n",
      "Dataset does not satisfy 2-diversity\n",
      "Dataset satisfies maximum 1-diversity\n",
      "=========Start anonymization process:\n",
      "Partition the dataset:\n",
      "25 partitions created.\n",
      "Changing quasi-identifiers values with the aggregation of their partition\n",
      "Showcasing some of the anonymized partition:\n",
      "Partition 4\n",
      "+-----+-------+-----------------+----------------+----------------+------------------+----------+\n",
      "|     |   age |   education-num |   capital-gain |   capital-loss |   hours-per-week |   income |\n",
      "|-----+-------+-----------------+----------------+----------------+------------------+----------|\n",
      "|  32 |    29 |              10 |        1298.25 |            154 |               40 |        1 |\n",
      "|  34 |    29 |              13 |        1298.25 |            154 |               40 |        1 |\n",
      "|  51 |    29 |              13 |        1298.25 |            154 |               50 |        1 |\n",
      "| 169 |    29 |               7 |        1298.25 |            154 |               40 |        0 |\n",
      "| 189 |    29 |              13 |        1298.25 |            154 |               40 |        0 |\n",
      "| 195 |    29 |              11 |        1298.25 |            154 |               36 |        0 |\n",
      "| 196 |    29 |              10 |        1298.25 |            154 |               40 |        0 |\n",
      "| 213 |    29 |              13 |        1298.25 |            154 |               48 |        1 |\n",
      "| 226 |    29 |              15 |        1298.25 |            154 |               48 |        1 |\n",
      "| 243 |    29 |               9 |        1298.25 |            154 |               40 |        0 |\n",
      "| 587 |    29 |              13 |        1298.25 |            154 |               40 |        0 |\n",
      "| 589 |    29 |              10 |        1298.25 |            154 |               40 |        0 |\n",
      "+-----+-------+-----------------+----------------+----------------+------------------+----------+\n",
      "Partition 3\n",
      "+-----+---------+-----------------+----------------+----------------+------------------+----------+\n",
      "|     |     age |   education-num |   capital-gain |   capital-loss |   hours-per-week |   income |\n",
      "|-----+---------+-----------------+----------------+----------------+------------------+----------|\n",
      "|  52 | 39.3333 |              12 |        136.606 |        57.1818 |               60 |        0 |\n",
      "|  84 | 39.3333 |               9 |        136.606 |        57.1818 |               40 |        0 |\n",
      "|  90 | 39.3333 |              13 |        136.606 |        57.1818 |               50 |        1 |\n",
      "| 115 | 39.3333 |               7 |        136.606 |        57.1818 |               40 |        0 |\n",
      "| 131 | 39.3333 |               9 |        136.606 |        57.1818 |               45 |        0 |\n",
      "| 201 | 39.3333 |               9 |        136.606 |        57.1818 |               40 |        0 |\n",
      "| 207 | 39.3333 |               4 |        136.606 |        57.1818 |               38 |        0 |\n",
      "| 210 | 39.3333 |              14 |        136.606 |        57.1818 |               40 |        1 |\n",
      "| 217 | 39.3333 |              10 |        136.606 |        57.1818 |               40 |        0 |\n",
      "| 229 | 39.3333 |              13 |        136.606 |        57.1818 |               40 |        0 |\n",
      "| 244 | 39.3333 |               9 |        136.606 |        57.1818 |               40 |        0 |\n",
      "| 293 | 39.3333 |               9 |        136.606 |        57.1818 |               40 |        0 |\n",
      "| 330 | 39.3333 |               6 |        136.606 |        57.1818 |               40 |        0 |\n",
      "| 334 | 39.3333 |              10 |        136.606 |        57.1818 |               60 |        0 |\n",
      "| 354 | 39.3333 |              10 |        136.606 |        57.1818 |               40 |        0 |\n",
      "| 367 | 39.3333 |              16 |        136.606 |        57.1818 |               45 |        1 |\n",
      "| 372 | 39.3333 |              13 |        136.606 |        57.1818 |               40 |        0 |\n",
      "| 391 | 39.3333 |              14 |        136.606 |        57.1818 |               45 |        1 |\n",
      "| 393 | 39.3333 |               9 |        136.606 |        57.1818 |               40 |        0 |\n",
      "| 427 | 39.3333 |              12 |        136.606 |        57.1818 |               60 |        1 |\n",
      "| 448 | 39.3333 |              13 |        136.606 |        57.1818 |               40 |        0 |\n",
      "| 454 | 39.3333 |               9 |        136.606 |        57.1818 |               40 |        1 |\n",
      "| 474 | 39.3333 |              13 |        136.606 |        57.1818 |               60 |        0 |\n",
      "| 490 | 39.3333 |               4 |        136.606 |        57.1818 |               55 |        0 |\n",
      "| 503 | 39.3333 |               9 |        136.606 |        57.1818 |               40 |        0 |\n",
      "| 517 | 39.3333 |               7 |        136.606 |        57.1818 |               40 |        0 |\n",
      "| 523 | 39.3333 |              13 |        136.606 |        57.1818 |               45 |        0 |\n",
      "| 537 | 39.3333 |              11 |        136.606 |        57.1818 |               60 |        0 |\n",
      "| 556 | 39.3333 |              13 |        136.606 |        57.1818 |               45 |        0 |\n",
      "| 560 | 39.3333 |               9 |        136.606 |        57.1818 |               40 |        0 |\n",
      "| 562 | 39.3333 |               9 |        136.606 |        57.1818 |               40 |        0 |\n",
      "| 566 | 39.3333 |              14 |        136.606 |        57.1818 |               50 |        0 |\n",
      "| 578 | 39.3333 |              10 |        136.606 |        57.1818 |               40 |        1 |\n",
      "+-----+---------+-----------------+----------------+----------------+------------------+----------+\n",
      "Partition 4\n",
      "+-----+-------+-----------------+----------------+----------------+------------------+----------+\n",
      "|     |   age |   education-num |   capital-gain |   capital-loss |   hours-per-week |   income |\n",
      "|-----+-------+-----------------+----------------+----------------+------------------+----------|\n",
      "|  32 |    29 |              10 |        1298.25 |            154 |               40 |        1 |\n",
      "|  34 |    29 |              13 |        1298.25 |            154 |               40 |        1 |\n",
      "|  51 |    29 |              13 |        1298.25 |            154 |               50 |        1 |\n",
      "| 169 |    29 |               7 |        1298.25 |            154 |               40 |        0 |\n",
      "| 189 |    29 |              13 |        1298.25 |            154 |               40 |        0 |\n",
      "| 195 |    29 |              11 |        1298.25 |            154 |               36 |        0 |\n",
      "| 196 |    29 |              10 |        1298.25 |            154 |               40 |        0 |\n",
      "| 213 |    29 |              13 |        1298.25 |            154 |               48 |        1 |\n",
      "| 226 |    29 |              15 |        1298.25 |            154 |               48 |        1 |\n",
      "| 243 |    29 |               9 |        1298.25 |            154 |               40 |        0 |\n",
      "| 587 |    29 |              13 |        1298.25 |            154 |               40 |        0 |\n",
      "| 589 |    29 |              10 |        1298.25 |            154 |               40 |        0 |\n",
      "+-----+-------+-----------------+----------------+----------------+------------------+----------+\n",
      "Anonymized dataset generated\n",
      "Dataset satisfies 1-diversity\n",
      "Dataset satisfies 2-diversity\n",
      "Dataset does not satisfy 3-diversity\n",
      "Dataset satisfies maximum 2-diversity\n"
     ]
    },
    {
     "data": {
      "text/plain": "2"
     },
     "execution_count": 9,
     "metadata": {},
     "output_type": "execute_result"
    }
   ],
   "source": [
    "cm.find_l_diversity(k_anonymdf, QI, sensitive_column)\n",
    "l_diversedf = an.anonymize_l_diversity(df, QI, sensitive_column, 10, 2)\n",
    "cm.find_l_diversity(l_diversedf, QI, sensitive_column)"
   ],
   "metadata": {
    "collapsed": false,
    "ExecuteTime": {
     "end_time": "2023-09-25T21:29:41.183885Z",
     "start_time": "2023-09-25T21:29:41.070547Z"
    }
   }
  },
  {
   "cell_type": "markdown",
   "source": [
    "## T-closeness\n",
    "Tries to create partitions so that the distribution of the sensitive column is similar to the entire dataset"
   ],
   "metadata": {
    "collapsed": false
   }
  },
  {
   "cell_type": "code",
   "execution_count": 10,
   "outputs": [
    {
     "name": "stdout",
     "output_type": "stream",
     "text": [
      "=========Start anonymization process:\n",
      "Partition the dataset:\n",
      "33 partitions created.\n",
      "Changing quasi-identifiers values with the aggregation of their partition\n",
      "Showcasing some of the anonymized partition:\n",
      "Partition 16\n",
      "+-----+-------+-----------------+----------------+----------------+------------------+----------+\n",
      "|     |   age |   education-num |   capital-gain |   capital-loss |   hours-per-week |   income |\n",
      "|-----+-------+-----------------+----------------+----------------+------------------+----------|\n",
      "|   3 |    42 |               9 |        851.688 |              0 |               45 |        1 |\n",
      "|  26 |    42 |              13 |        851.688 |              0 |               40 |        0 |\n",
      "|  74 |    42 |               9 |        851.688 |              0 |               45 |        1 |\n",
      "|  79 |    42 |              10 |        851.688 |              0 |               48 |        1 |\n",
      "| 101 |    42 |               9 |        851.688 |              0 |               45 |        0 |\n",
      "| 102 |    42 |              13 |        851.688 |              0 |               45 |        1 |\n",
      "| 105 |    42 |               6 |        851.688 |              0 |               40 |        0 |\n",
      "| 208 |    42 |              11 |        851.688 |              0 |               40 |        0 |\n",
      "| 238 |    42 |               5 |        851.688 |              0 |               40 |        0 |\n",
      "| 270 |    42 |              12 |        851.688 |              0 |               40 |        1 |\n",
      "| 291 |    42 |               9 |        851.688 |              0 |               40 |        0 |\n",
      "| 394 |    42 |               2 |        851.688 |              0 |               45 |        1 |\n",
      "| 429 |    42 |               9 |        851.688 |              0 |               45 |        0 |\n",
      "| 436 |    42 |              11 |        851.688 |              0 |               40 |        0 |\n",
      "| 466 |    42 |               9 |        851.688 |              0 |               45 |        0 |\n",
      "| 557 |    42 |              14 |        851.688 |              0 |               52 |        1 |\n",
      "+-----+-------+-----------------+----------------+----------------+------------------+----------+\n",
      "Partition 9\n",
      "+-----+-------+-----------------+----------------+----------------+------------------+----------+\n",
      "|     |   age |   education-num |   capital-gain |   capital-loss |   hours-per-week |   income |\n",
      "|-----+-------+-----------------+----------------+----------------+------------------+----------|\n",
      "|  14 | 25.32 |               9 |         466.64 |         224.96 |               40 |        0 |\n",
      "|  20 | 25.32 |               9 |         466.64 |         224.96 |               40 |        0 |\n",
      "|  33 | 25.32 |              13 |         466.64 |         224.96 |               43 |        0 |\n",
      "|  49 | 25.32 |              10 |         466.64 |         224.96 |               40 |        0 |\n",
      "|  60 | 25.32 |              13 |         466.64 |         224.96 |               43 |        1 |\n",
      "|  61 | 25.32 |              13 |         466.64 |         224.96 |               43 |        0 |\n",
      "|  66 | 25.32 |               9 |         466.64 |         224.96 |               40 |        0 |\n",
      "| 222 | 25.32 |              13 |         466.64 |         224.96 |               43 |        0 |\n",
      "| 230 | 25.32 |               9 |         466.64 |         224.96 |               40 |        0 |\n",
      "| 248 | 25.32 |              10 |         466.64 |         224.96 |               40 |        0 |\n",
      "| 257 | 25.32 |              13 |         466.64 |         224.96 |               43 |        0 |\n",
      "| 298 | 25.32 |               9 |         466.64 |         224.96 |               40 |        0 |\n",
      "| 335 | 25.32 |              13 |         466.64 |         224.96 |               43 |        0 |\n",
      "| 343 | 25.32 |              10 |         466.64 |         224.96 |               40 |        0 |\n",
      "| 358 | 25.32 |               9 |         466.64 |         224.96 |               40 |        0 |\n",
      "| 377 | 25.32 |               9 |         466.64 |         224.96 |               40 |        0 |\n",
      "| 407 | 25.32 |              14 |         466.64 |         224.96 |               48 |        0 |\n",
      "| 415 | 25.32 |              10 |         466.64 |         224.96 |               40 |        0 |\n",
      "| 424 | 25.32 |              13 |         466.64 |         224.96 |               43 |        0 |\n",
      "| 475 | 25.32 |               7 |         466.64 |         224.96 |               40 |        0 |\n",
      "| 513 | 25.32 |              13 |         466.64 |         224.96 |               40 |        0 |\n",
      "| 514 | 25.32 |               7 |         466.64 |         224.96 |               40 |        0 |\n",
      "| 522 | 25.32 |              13 |         466.64 |         224.96 |               40 |        0 |\n",
      "| 534 | 25.32 |               7 |         466.64 |         224.96 |               40 |        0 |\n",
      "| 576 | 25.32 |              10 |         466.64 |         224.96 |               40 |        0 |\n",
      "+-----+-------+-----------------+----------------+----------------+------------------+----------+\n",
      "Partition 15\n",
      "+-----+-------+-----------------+----------------+----------------+------------------+----------+\n",
      "|     |   age |   education-num |   capital-gain |   capital-loss |   hours-per-week |   income |\n",
      "|-----+-------+-----------------+----------------+----------------+------------------+----------|\n",
      "|  19 |    41 |              12 |        7402.56 |              0 |               48 |        1 |\n",
      "|  37 |    41 |               9 |        7402.56 |              0 |               40 |        0 |\n",
      "| 111 |    41 |              13 |        7402.56 |              0 |               48 |        1 |\n",
      "| 123 |    41 |              13 |        7402.56 |              0 |               40 |        0 |\n",
      "| 126 |    41 |              13 |        7402.56 |              0 |               30 |        0 |\n",
      "| 142 |    41 |              10 |        7402.56 |              0 |               40 |        0 |\n",
      "| 161 |    41 |               2 |        7402.56 |              0 |               38 |        0 |\n",
      "| 167 |    41 |               9 |        7402.56 |              0 |               40 |        0 |\n",
      "| 332 |    41 |               4 |        7402.56 |              0 |               38 |        0 |\n",
      "| 340 |    41 |               9 |        7402.56 |              0 |               40 |        0 |\n",
      "| 353 |    41 |               9 |        7402.56 |              0 |               40 |        0 |\n",
      "| 453 |    41 |               9 |        7402.56 |              0 |               45 |        0 |\n",
      "| 485 |    41 |              13 |        7402.56 |              0 |               40 |        0 |\n",
      "| 549 |    41 |              14 |        7402.56 |              0 |               40 |        1 |\n",
      "| 581 |    41 |               9 |        7402.56 |              0 |               45 |        0 |\n",
      "| 598 |    41 |               9 |        7402.56 |              0 |               40 |        0 |\n",
      "+-----+-------+-----------------+----------------+----------------+------------------+----------+\n",
      "Anonymized dataset generated\n"
     ]
    }
   ],
   "source": [
    "t_closedf = an.anonymize_t_closeness(df, QI, sensitive_column, k = 8, t=1)\n"
   ],
   "metadata": {
    "collapsed": false,
    "ExecuteTime": {
     "end_time": "2023-09-25T21:29:41.328473Z",
     "start_time": "2023-09-25T21:29:41.183314Z"
    }
   }
  },
  {
   "cell_type": "markdown",
   "source": [
    "## Using the anonymized data as input to ML model"
   ],
   "metadata": {
    "collapsed": false
   }
  },
  {
   "cell_type": "code",
   "execution_count": 11,
   "outputs": [
    {
     "name": "stdout",
     "output_type": "stream",
     "text": [
      "Accuracy on k_anonymized/minimized data:  0.715\n",
      "Accuracy on l_diversed/minimized data:  0.715\n",
      "Accuracy on t_close/minimized data:  0.7116666666666667\n"
     ]
    }
   ],
   "source": [
    "print('Accuracy on k_anonymized/minimized data: ', model.score(test_data=ArrayDataset(k_anonymdf[features], y_test)))\n",
    "print('Accuracy on l_diversed/minimized data: ', model.score(test_data=ArrayDataset(l_diversedf[features], y_test)))\n",
    "print('Accuracy on t_close/minimized data: ', model.score(test_data=ArrayDataset(t_closedf[features], y_test)))\n"
   ],
   "metadata": {
    "collapsed": false,
    "ExecuteTime": {
     "end_time": "2023-09-25T21:29:41.334167Z",
     "start_time": "2023-09-25T21:29:41.328777Z"
    }
   }
  },
  {
   "cell_type": "markdown",
   "source": [],
   "metadata": {
    "collapsed": false
   }
  },
  {
   "cell_type": "markdown",
   "source": [],
   "metadata": {
    "collapsed": false
   }
  },
  {
   "cell_type": "markdown",
   "metadata": {},
   "source": []
  }
 ],
 "metadata": {
  "kernelspec": {
   "display_name": "Python 3",
   "language": "python",
   "name": "python3"
  },
  "language_info": {
   "codemirror_mode": {
    "name": "ipython",
    "version": 3
   },
   "file_extension": ".py",
   "mimetype": "text/x-python",
   "name": "python",
   "nbconvert_exporter": "python",
   "pygments_lexer": "ipython3",
   "version": "3.8.3"
  }
 },
 "nbformat": 4,
 "nbformat_minor": 2
}
