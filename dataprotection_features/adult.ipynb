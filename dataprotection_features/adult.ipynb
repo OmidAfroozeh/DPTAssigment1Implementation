{
 "cells": [
  {
   "cell_type": "markdown",
   "metadata": {},
   "source": [
    "# Applying data minimization to a trained ML model"
   ]
  },
  {
   "cell_type": "markdown",
   "metadata": {},
   "source": [
    "In this tutorial we will show how to perform data minimization for ML models using the minimization module. \n",
    "\n",
    "This will be demonstarted using the Adult dataset (original dataset can be found here: https://archive.ics.uci.edu/ml/datasets/adult). \n",
    "\n",
    "We use only the numerical features in the dataset because this is what is currently supported by the module.\n",
    "\n",
    "Furthermore, We will explore how to use the anonymization features to further increase the data protection capabilities of the solution"
   ]
  },
  {
   "cell_type": "markdown",
   "metadata": {},
   "source": [
    "## Load data"
   ]
  },
  {
   "cell_type": "code",
   "execution_count": 1,
   "metadata": {
    "ExecuteTime": {
     "end_time": "2023-09-25T20:48:02.076407Z",
     "start_time": "2023-09-25T20:47:29.163497Z"
    }
   },
   "outputs": [],
   "source": [
    "import numpy as np\n",
    "import pandas as pd\n",
    "import warnings\n",
    "import anonymize_module as an\n",
    "import os\n",
    "import sys\n",
    "import calcmetric as cm\n",
    "sys.path.insert(0, os.path.abspath('..'))\n",
    "from apt.utils.datasets import ArrayDataset\n",
    "from apt.utils.models import SklearnClassifier, ModelOutputType\n",
    "from sklearn.tree import DecisionTreeClassifier\n",
    "\n",
    "warnings.filterwarnings('ignore', category=UserWarning)\n",
    "warnings.filterwarnings('ignore', category=FutureWarning)\n",
    "# Use only numeric features (age, education-num, capital-gain, capital-loss, hours-per-week)\n",
    "\n",
    "\n",
    "x_train = np.loadtxt(\"https://archive.ics.uci.edu/ml/machine-learning-databases/adult/adult.data\",\n",
    "                        usecols=(0, 4, 10, 11, 12), delimiter=\",\")\n",
    "\n",
    "y_train = np.loadtxt(\"https://archive.ics.uci.edu/ml/machine-learning-databases/adult/adult.data\",\n",
    "                        usecols=14, dtype=str, delimiter=\",\")\n",
    "\n",
    "\n",
    "x_test = np.loadtxt(\"https://archive.ics.uci.edu/ml/machine-learning-databases/adult/adult.test\",\n",
    "                        usecols=(0, 4, 10, 11, 12), delimiter=\",\", skiprows=1)\n",
    "\n",
    "y_test = np.loadtxt(\"https://archive.ics.uci.edu/ml/machine-learning-databases/adult/adult.test\",\n",
    "                        usecols=14, dtype=str, delimiter=\",\", skiprows=1)\n",
    "\n",
    "x_train = x_train[:1500]\n",
    "y_train = y_train[:1500]\n",
    "x_test = x_test[:1500]\n",
    "y_test = y_test[:1500]\n",
    "\n",
    "# Trim trailing period \".\" from label\n",
    "y_test = np.array([a[:-1] for a in y_test])\n",
    "y_train[y_train == ' <=50K'] = 0\n",
    "y_train[y_train == ' >50K'] = 1\n",
    "y_train = y_train.astype(int)\n",
    "\n",
    "y_test[y_test == ' <=50K'] = 0\n",
    "y_test[y_test == ' >50K'] = 1\n",
    "y_test = y_test.astype(int)\n"
   ]
  },
  {
   "cell_type": "markdown",
   "metadata": {},
   "source": [
    "## Train decision tree model"
   ]
  },
  {
   "cell_type": "code",
   "execution_count": 2,
   "metadata": {
    "ExecuteTime": {
     "end_time": "2023-09-25T20:48:02.083291Z",
     "start_time": "2023-09-25T20:48:02.077431Z"
    }
   },
   "outputs": [
    {
     "name": "stdout",
     "output_type": "stream",
     "text": [
      "Base model accuracy:  0.7706666666666667\n"
     ]
    }
   ],
   "source": [
    "import os\n",
    "import sys\n",
    "sys.path.insert(0, os.path.abspath('..'))\n",
    "\n",
    "from apt.utils.datasets import ArrayDataset\n",
    "from apt.utils.models import SklearnClassifier, ModelOutputType\n",
    "from sklearn.tree import DecisionTreeClassifier\n",
    "\n",
    "base_est = DecisionTreeClassifier()\n",
    "model = SklearnClassifier(base_est, ModelOutputType.CLASSIFIER_PROBABILITIES)\n",
    "model.fit(ArrayDataset(x_train, y_train))\n",
    "\n",
    "print('Base model accuracy: ', model.score(ArrayDataset(x_test, y_test)))"
   ]
  },
  {
   "cell_type": "markdown",
   "metadata": {},
   "source": [
    "## Run minimization\n",
    "We will try to run minimization with different possible values of target accuracy (how close to the original model's accuracy we want to get, 1 being same accuracy as for original data)."
   ]
  },
  {
   "cell_type": "code",
   "execution_count": 3,
   "metadata": {
    "ExecuteTime": {
     "end_time": "2023-09-25T20:48:15.581308Z",
     "start_time": "2023-09-25T20:48:02.085601Z"
    }
   },
   "outputs": [
    {
     "name": "stdout",
     "output_type": "stream",
     "text": [
      "Initial accuracy of model on generalized data, relative to original model predictions (base generalization derived from tree, before improvements): 0.852778\n",
      "Improving accuracy\n",
      "feature to remove: 1\n",
      "Removed feature: 1, new relative accuracy: 0.850000\n",
      "feature to remove: 2\n",
      "Removed feature: 2, new relative accuracy: 0.863889\n",
      "feature to remove: 0\n",
      "Removed feature: 0, new relative accuracy: 0.938889\n",
      "feature to remove: 4\n",
      "Removed feature: 4, new relative accuracy: 0.994444\n",
      "feature to remove: 3\n",
      "Removed feature: 3, new relative accuracy: 1.000000\n",
      "Accuracy on minimized data:  0.7883333333333333\n"
     ]
    }
   ],
   "source": [
    "from apt.minimization import GeneralizeToRepresentative\n",
    "from sklearn.model_selection import train_test_split\n",
    "\n",
    "# default target_accuracy is 0.998\n",
    "minimizer = GeneralizeToRepresentative(model)\n",
    "\n",
    "# Fitting the minimizar can be done either on training or test data. Doing it with test data is better as the \n",
    "# resulting accuracy on test data will be closer to the desired target accuracy (when working with training \n",
    "# data it could result in a larger gap)\n",
    "# Don't forget to leave a hold-out set for final validation!\n",
    "X_generalizer_train, x_test, y_generalizer_train, y_test = train_test_split(x_test, y_test, stratify=y_test,\n",
    "                                                                test_size = 0.4, random_state = 38)\n",
    "x_train_predictions = model.predict(ArrayDataset(X_generalizer_train))\n",
    "if x_train_predictions.shape[1] > 1:\n",
    "    x_train_predictions = np.argmax(x_train_predictions, axis=1)\n",
    "minimizer.fit(dataset=ArrayDataset(X_generalizer_train, x_train_predictions))\n",
    "transformed = minimizer.transform(dataset=ArrayDataset(x_test))\n",
    "\n",
    "print('Accuracy on minimized data: ', model.score(ArrayDataset(transformed, y_test)))"
   ]
  },
  {
   "cell_type": "markdown",
   "metadata": {},
   "source": [
    "#### Let's see what features were generalized"
   ]
  },
  {
   "cell_type": "code",
   "execution_count": 4,
   "metadata": {
    "ExecuteTime": {
     "end_time": "2023-09-25T20:48:15.583493Z",
     "start_time": "2023-09-25T20:48:15.582059Z"
    }
   },
   "outputs": [
    {
     "name": "stdout",
     "output_type": "stream",
     "text": [
      "{'ranges': {}, 'categories': {}, 'untouched': ['3', '4', '1', '2', '0'], 'category_representatives': {}, 'range_representatives': {}}\n"
     ]
    }
   ],
   "source": [
    "generalizations = minimizer.generalizations\n",
    "print(generalizations)"
   ]
  },
  {
   "cell_type": "markdown",
   "metadata": {},
   "source": [
    "We can see that for the default target accuracy of 0.998 of the original accuracy, no generalizations are possible (all features are left untouched, i.e., not generalized).\n",
    "\n",
    "Let's change to a slightly lower target accuracy."
   ]
  },
  {
   "cell_type": "code",
   "execution_count": 5,
   "metadata": {
    "ExecuteTime": {
     "end_time": "2023-09-25T20:48:27.627478Z",
     "start_time": "2023-09-25T20:48:15.586528Z"
    }
   },
   "outputs": [
    {
     "name": "stdout",
     "output_type": "stream",
     "text": [
      "Initial accuracy of model on generalized data, relative to original model predictions (base generalization derived from tree, before improvements): 0.852778\n",
      "Improving accuracy\n",
      "feature to remove: 1\n",
      "Removed feature: 1, new relative accuracy: 0.850000\n",
      "feature to remove: 2\n",
      "Removed feature: 2, new relative accuracy: 0.863889\n",
      "feature to remove: 0\n",
      "Removed feature: 0, new relative accuracy: 0.938889\n",
      "Accuracy on minimized data:  0.7583333333333333\n",
      "{'ranges': {'3': [704.0, 814.0, 1578.5], '4': [15.0, 21.5, 25.0, 27.5, 32.5, 35.0, 36.0, 37.5, 41.0, 41.5, 42.5, 43.0, 43.5, 44.0, 45.0, 47.5, 49.0, 49.5, 52.5, 54.5, 55.0, 55.5, 65.0, 75.0]}, 'categories': {}, 'untouched': ['1', '0', '2'], 'category_representatives': {}, 'range_representatives': {'3': [704.0, 0.0, 382.25], '4': [15.0, 8.0, 20.0, 25.0, 2.5, 30.0, 35.0, 36.0, 37.0, 40.0, 0.5, 42.0, 0.25, 0.25, 44.0, 45.0, 46.0, 48.0, 1.5, 50.0, 54.0, 55.0, 4.75, 60.0]}}\n"
     ]
    }
   ],
   "source": [
    "# We allow a 10% deviation in accuracy from the original model accuracy\n",
    "minimizer2 = GeneralizeToRepresentative(model, target_accuracy=0.9)\n",
    "\n",
    "minimizer2.fit(dataset=ArrayDataset(X_generalizer_train, x_train_predictions))\n",
    "transformed2 = minimizer2.transform(dataset=ArrayDataset(x_test))\n",
    "print('Accuracy on minimized data: ', model.score(test_data=ArrayDataset(transformed2, y_test)))\n",
    "generalizations2 = minimizer2.generalizations\n",
    "print(generalizations2)"
   ]
  },
  {
   "cell_type": "markdown",
   "source": [
    "## Construct the dataset and measure k-anonymity\n",
    "dataset consists of the transformed data and the sensitive column"
   ],
   "metadata": {
    "collapsed": false
   }
  },
  {
   "cell_type": "code",
   "execution_count": 6,
   "outputs": [
    {
     "name": "stdout",
     "output_type": "stream",
     "text": [
      "Dataset satisfies 1-anonymity\n",
      "Dataset does not satisfy 2-anonymity\n",
      "Dataset satisfies maximum 1-anonymity\n"
     ]
    },
    {
     "data": {
      "text/plain": "1"
     },
     "execution_count": 6,
     "metadata": {},
     "output_type": "execute_result"
    }
   ],
   "source": [
    "features = [\"age\", \"education-num\", \"capital-gain\", \"capital-loss\", \"hours-per-week\"]\n",
    "QI = [\"age\", \"capital-gain\", \"capital-loss\"]\n",
    "sensitive_column = 'income'\n",
    "\n",
    "df = pd.DataFrame(transformed2, columns=features)\n",
    "df[sensitive_column] = y_test\n",
    "\n",
    "# find maximum k-value for which k-anonymity is still satisfied\n",
    "cm.find_k_anonymity(df, QI)"
   ],
   "metadata": {
    "collapsed": false,
    "ExecuteTime": {
     "end_time": "2023-09-25T20:48:27.635883Z",
     "start_time": "2023-09-25T20:48:27.630072Z"
    }
   }
  },
  {
   "cell_type": "markdown",
   "source": [
    "## K-Anonymize\n",
    "As seen, the dataset is not anonymized\n",
    "To anonymize the dataset, call k-anonymize function"
   ],
   "metadata": {
    "collapsed": false
   }
  },
  {
   "cell_type": "code",
   "execution_count": 7,
   "outputs": [
    {
     "name": "stdout",
     "output_type": "stream",
     "text": [
      "=========Start anonymization process:\n",
      "Partition the dataset:\n",
      "31 partitions created.\n",
      "Changing quasi-identifiers values with the aggregation of their partition\n",
      "Showcasing some of the anonymized partition:\n",
      "Partition 7\n",
      "+-----+-------+-----------------+----------------+----------------+------------------+----------+\n",
      "|     |   age |   education-num |   capital-gain |   capital-loss |   hours-per-week |   income |\n",
      "|-----+-------+-----------------+----------------+----------------+------------------+----------|\n",
      "|   8 |    23 |              10 |              0 |              0 |               40 |        0 |\n",
      "|  16 |    23 |              13 |              0 |              0 |               40 |        0 |\n",
      "|  22 |    23 |              10 |              0 |              0 |               40 |        0 |\n",
      "|  24 |    23 |              10 |              0 |              0 |               40 |        1 |\n",
      "| 145 |    23 |               9 |              0 |              0 |               40 |        0 |\n",
      "| 157 |    23 |              13 |              0 |              0 |               40 |        0 |\n",
      "| 163 |    23 |              10 |              0 |              0 |               40 |        0 |\n",
      "| 199 |    23 |               9 |              0 |              0 |               40 |        0 |\n",
      "| 216 |    23 |              10 |              0 |              0 |               50 |        0 |\n",
      "| 224 |    23 |               9 |              0 |              0 |               40 |        0 |\n",
      "| 235 |    23 |              10 |              0 |              0 |               40 |        0 |\n",
      "| 241 |    23 |              10 |              0 |              0 |               40 |        0 |\n",
      "| 278 |    23 |               9 |              0 |              0 |               40 |        0 |\n",
      "| 301 |    23 |               7 |              0 |              0 |               40 |        0 |\n",
      "| 304 |    23 |              13 |              0 |              0 |               40 |        0 |\n",
      "| 346 |    23 |              10 |              0 |              0 |               40 |        0 |\n",
      "| 463 |    23 |               9 |              0 |              0 |               40 |        0 |\n",
      "| 470 |    23 |              10 |              0 |              0 |               50 |        0 |\n",
      "| 486 |    23 |              10 |              0 |              0 |               40 |        0 |\n",
      "| 500 |    23 |               7 |              0 |              0 |               40 |        0 |\n",
      "+-----+-------+-----------------+----------------+----------------+------------------+----------+\n",
      "Partition 12\n",
      "+-----+-------+-----------------+----------------+----------------+------------------+----------+\n",
      "|     |   age |   education-num |   capital-gain |   capital-loss |   hours-per-week |   income |\n",
      "|-----+-------+-----------------+----------------+----------------+------------------+----------|\n",
      "|  36 |    31 |               7 |              0 |              0 |               35 |        0 |\n",
      "|  50 |    31 |              11 |              0 |              0 |               40 |        0 |\n",
      "|  53 |    31 |              10 |              0 |              0 |               40 |        0 |\n",
      "|  73 |    31 |              10 |              0 |              0 |               40 |        0 |\n",
      "| 103 |    31 |              10 |              0 |              0 |               50 |        1 |\n",
      "| 164 |    31 |               5 |              0 |              0 |               40 |        0 |\n",
      "| 185 |    31 |              13 |              0 |              0 |               40 |        0 |\n",
      "| 187 |    31 |               9 |              0 |              0 |               50 |        0 |\n",
      "| 192 |    31 |              13 |              0 |              0 |               50 |        0 |\n",
      "| 205 |    31 |               9 |              0 |              0 |               40 |        0 |\n",
      "| 273 |    31 |              14 |              0 |              0 |               35 |        1 |\n",
      "| 274 |    31 |              11 |              0 |              0 |               40 |        0 |\n",
      "| 299 |    31 |              11 |              0 |              0 |               40 |        0 |\n",
      "| 311 |    31 |               9 |              0 |              0 |               40 |        0 |\n",
      "| 397 |    31 |              10 |              0 |              0 |               50 |        0 |\n",
      "| 422 |    31 |              10 |              0 |              0 |               40 |        1 |\n",
      "| 428 |    31 |              14 |              0 |              0 |               40 |        0 |\n",
      "| 450 |    31 |              10 |              0 |              0 |               40 |        1 |\n",
      "| 457 |    31 |              10 |              0 |              0 |               40 |        0 |\n",
      "| 551 |    31 |              10 |              0 |              0 |               40 |        0 |\n",
      "| 584 |    31 |              13 |              0 |              0 |               50 |        0 |\n",
      "+-----+-------+-----------------+----------------+----------------+------------------+----------+\n",
      "Partition 20\n",
      "+-----+---------+-----------------+----------------+----------------+------------------+----------+\n",
      "|     |     age |   education-num |   capital-gain |   capital-loss |   hours-per-week |   income |\n",
      "|-----+---------+-----------------+----------------+----------------+------------------+----------|\n",
      "|  27 | 48.4444 |               9 |        1007.06 |        109.833 |               48 |        0 |\n",
      "|  57 | 48.4444 |               9 |        1007.06 |        109.833 |               40 |        0 |\n",
      "|  68 | 48.4444 |              14 |        1007.06 |        109.833 |               50 |        1 |\n",
      "| 194 | 48.4444 |              16 |        1007.06 |        109.833 |               40 |        1 |\n",
      "| 211 | 48.4444 |               9 |        1007.06 |        109.833 |               48 |        1 |\n",
      "| 212 | 48.4444 |               9 |        1007.06 |        109.833 |               25 |        1 |\n",
      "| 252 | 48.4444 |               9 |        1007.06 |        109.833 |               40 |        1 |\n",
      "| 267 | 48.4444 |              11 |        1007.06 |        109.833 |               40 |        1 |\n",
      "| 281 | 48.4444 |               9 |        1007.06 |        109.833 |               40 |        0 |\n",
      "| 303 | 48.4444 |               9 |        1007.06 |        109.833 |               40 |        0 |\n",
      "| 305 | 48.4444 |               9 |        1007.06 |        109.833 |               40 |        0 |\n",
      "| 316 | 48.4444 |               9 |        1007.06 |        109.833 |               40 |        0 |\n",
      "| 356 | 48.4444 |              15 |        1007.06 |        109.833 |               40 |        1 |\n",
      "| 376 | 48.4444 |               9 |        1007.06 |        109.833 |               40 |        1 |\n",
      "| 392 | 48.4444 |              10 |        1007.06 |        109.833 |               40 |        0 |\n",
      "| 443 | 48.4444 |               3 |        1007.06 |        109.833 |               80 |        0 |\n",
      "| 444 | 48.4444 |              10 |        1007.06 |        109.833 |               40 |        1 |\n",
      "| 510 | 48.4444 |              13 |        1007.06 |        109.833 |               50 |        0 |\n",
      "+-----+---------+-----------------+----------------+----------------+------------------+----------+\n",
      "Anonymized dataset generated\n"
     ]
    }
   ],
   "source": [
    "k_anonymdf = an.anonymize_k_anonymity(df, QI, sensitive_column, k=10)"
   ],
   "metadata": {
    "collapsed": false,
    "ExecuteTime": {
     "end_time": "2023-09-25T20:48:27.732640Z",
     "start_time": "2023-09-25T20:48:27.636968Z"
    }
   }
  },
  {
   "cell_type": "markdown",
   "source": [
    "Let's check again"
   ],
   "metadata": {
    "collapsed": false
   }
  },
  {
   "cell_type": "code",
   "execution_count": 8,
   "outputs": [
    {
     "name": "stdout",
     "output_type": "stream",
     "text": [
      "Dataset satisfies 1-anonymity\n",
      "Dataset satisfies 2-anonymity\n",
      "Dataset satisfies 3-anonymity\n",
      "Dataset satisfies 4-anonymity\n",
      "Dataset satisfies 5-anonymity\n",
      "Dataset satisfies 6-anonymity\n",
      "Dataset satisfies 7-anonymity\n",
      "Dataset satisfies 8-anonymity\n",
      "Dataset satisfies 9-anonymity\n",
      "Dataset satisfies 10-anonymity\n",
      "Dataset does not satisfy 11-anonymity\n",
      "Dataset satisfies maximum 10-anonymity\n"
     ]
    },
    {
     "data": {
      "text/plain": "10"
     },
     "execution_count": 8,
     "metadata": {},
     "output_type": "execute_result"
    }
   ],
   "source": [
    "cm.find_k_anonymity(k_anonymdf, QI)"
   ],
   "metadata": {
    "collapsed": false,
    "ExecuteTime": {
     "end_time": "2023-09-25T20:48:27.744269Z",
     "start_time": "2023-09-25T20:48:27.733911Z"
    }
   }
  },
  {
   "cell_type": "markdown",
   "source": [
    "Now, the dataset is 10-anonymous."
   ],
   "metadata": {
    "collapsed": false
   }
  },
  {
   "cell_type": "markdown",
   "source": [
    "## L-diversity"
   ],
   "metadata": {
    "collapsed": false
   }
  },
  {
   "cell_type": "code",
   "execution_count": 9,
   "outputs": [
    {
     "name": "stdout",
     "output_type": "stream",
     "text": [
      "Dataset satisfies 1-diversity\n",
      "Dataset does not satisfy 2-diversity\n",
      "Dataset satisfies maximum 1-diversity\n",
      "=========Start anonymization process:\n",
      "Partition the dataset:\n",
      "25 partitions created.\n",
      "Changing quasi-identifiers values with the aggregation of their partition\n",
      "Showcasing some of the anonymized partition:\n",
      "Partition 0\n",
      "+-----+---------+-----------------+----------------+----------------+------------------+----------+\n",
      "|     |     age |   education-num |   capital-gain |   capital-loss |   hours-per-week |   income |\n",
      "|-----+---------+-----------------+----------------+----------------+------------------+----------|\n",
      "|   6 | 21.6397 |              10 |        253.074 |              0 |               40 |        0 |\n",
      "|   8 | 21.6397 |              10 |        253.074 |              0 |               40 |        0 |\n",
      "|  10 | 21.6397 |              10 |        253.074 |              0 |               40 |        0 |\n",
      "|  12 | 21.6397 |              13 |        253.074 |              0 |               40 |        1 |\n",
      "|  14 | 21.6397 |               9 |        253.074 |              0 |               40 |        0 |\n",
      "|  16 | 21.6397 |              13 |        253.074 |              0 |               40 |        0 |\n",
      "|  17 | 21.6397 |              10 |        253.074 |              0 |               40 |        0 |\n",
      "|  18 | 21.6397 |               7 |        253.074 |              0 |               40 |        0 |\n",
      "|  20 | 21.6397 |               9 |        253.074 |              0 |               40 |        0 |\n",
      "|  22 | 21.6397 |              10 |        253.074 |              0 |               40 |        0 |\n",
      "|  23 | 21.6397 |              10 |        253.074 |              0 |               40 |        0 |\n",
      "|  24 | 21.6397 |              10 |        253.074 |              0 |               40 |        1 |\n",
      "|  28 | 21.6397 |              10 |        253.074 |              0 |               40 |        0 |\n",
      "|  33 | 21.6397 |              13 |        253.074 |              0 |               40 |        0 |\n",
      "|  43 | 21.6397 |               1 |        253.074 |              0 |               40 |        0 |\n",
      "|  46 | 21.6397 |              10 |        253.074 |              0 |               40 |        0 |\n",
      "|  49 | 21.6397 |              10 |        253.074 |              0 |               40 |        0 |\n",
      "|  54 | 21.6397 |              13 |        253.074 |              0 |               50 |        0 |\n",
      "|  58 | 21.6397 |               9 |        253.074 |              0 |               45 |        0 |\n",
      "|  60 | 21.6397 |              13 |        253.074 |              0 |               40 |        1 |\n",
      "|  61 | 21.6397 |              13 |        253.074 |              0 |               40 |        0 |\n",
      "|  64 | 21.6397 |               9 |        253.074 |              0 |               40 |        0 |\n",
      "|  65 | 21.6397 |               9 |        253.074 |              0 |               40 |        0 |\n",
      "|  66 | 21.6397 |               9 |        253.074 |              0 |               55 |        0 |\n",
      "|  69 | 21.6397 |              13 |        253.074 |              0 |               40 |        0 |\n",
      "|  75 | 21.6397 |              10 |        253.074 |              0 |               40 |        0 |\n",
      "|  87 | 21.6397 |               9 |        253.074 |              0 |               40 |        0 |\n",
      "|  88 | 21.6397 |              10 |        253.074 |              0 |               40 |        0 |\n",
      "|  89 | 21.6397 |               7 |        253.074 |              0 |               40 |        0 |\n",
      "|  95 | 21.6397 |              10 |        253.074 |              0 |               40 |        0 |\n",
      "|  96 | 21.6397 |               9 |        253.074 |              0 |               55 |        0 |\n",
      "| 113 | 21.6397 |               9 |        253.074 |              0 |               40 |        0 |\n",
      "| 116 | 21.6397 |              10 |        253.074 |              0 |               40 |        0 |\n",
      "| 117 | 21.6397 |               9 |        253.074 |              0 |               55 |        0 |\n",
      "| 119 | 21.6397 |              13 |        253.074 |              0 |               40 |        0 |\n",
      "| 121 | 21.6397 |              10 |        253.074 |              0 |               40 |        0 |\n",
      "| 129 | 21.6397 |              10 |        253.074 |              0 |               40 |        0 |\n",
      "| 132 | 21.6397 |               9 |        253.074 |              0 |               40 |        0 |\n",
      "| 133 | 21.6397 |               9 |        253.074 |              0 |               45 |        0 |\n",
      "| 134 | 21.6397 |               9 |        253.074 |              0 |               40 |        0 |\n",
      "| 141 | 21.6397 |               6 |        253.074 |              0 |               40 |        0 |\n",
      "| 145 | 21.6397 |               9 |        253.074 |              0 |               40 |        0 |\n",
      "| 149 | 21.6397 |               9 |        253.074 |              0 |               40 |        0 |\n",
      "| 152 | 21.6397 |              10 |        253.074 |              0 |               40 |        0 |\n",
      "| 153 | 21.6397 |              10 |        253.074 |              0 |               40 |        0 |\n",
      "| 157 | 21.6397 |              13 |        253.074 |              0 |               40 |        0 |\n",
      "| 163 | 21.6397 |              10 |        253.074 |              0 |               40 |        0 |\n",
      "| 171 | 21.6397 |              10 |        253.074 |              0 |               40 |        0 |\n",
      "| 174 | 21.6397 |               7 |        253.074 |              0 |               40 |        0 |\n",
      "| 175 | 21.6397 |              10 |        253.074 |              0 |               40 |        0 |\n",
      "| 176 | 21.6397 |               9 |        253.074 |              0 |               40 |        0 |\n",
      "| 182 | 21.6397 |              10 |        253.074 |              0 |               40 |        0 |\n",
      "| 188 | 21.6397 |               7 |        253.074 |              0 |               40 |        0 |\n",
      "| 199 | 21.6397 |               9 |        253.074 |              0 |               40 |        0 |\n",
      "| 200 | 21.6397 |               9 |        253.074 |              0 |               40 |        0 |\n",
      "| 209 | 21.6397 |              13 |        253.074 |              0 |               40 |        0 |\n",
      "| 216 | 21.6397 |              10 |        253.074 |              0 |               50 |        0 |\n",
      "| 219 | 21.6397 |               9 |        253.074 |              0 |               40 |        0 |\n",
      "| 222 | 21.6397 |              13 |        253.074 |              0 |               40 |        0 |\n",
      "| 224 | 21.6397 |               9 |        253.074 |              0 |               40 |        0 |\n",
      "| 230 | 21.6397 |               9 |        253.074 |              0 |               40 |        0 |\n",
      "| 235 | 21.6397 |              10 |        253.074 |              0 |               40 |        0 |\n",
      "| 241 | 21.6397 |              10 |        253.074 |              0 |               40 |        0 |\n",
      "| 245 | 21.6397 |               9 |        253.074 |              0 |               40 |        0 |\n",
      "| 248 | 21.6397 |              10 |        253.074 |              0 |               40 |        0 |\n",
      "| 255 | 21.6397 |               7 |        253.074 |              0 |               40 |        0 |\n",
      "| 257 | 21.6397 |              13 |        253.074 |              0 |               40 |        0 |\n",
      "| 262 | 21.6397 |               7 |        253.074 |              0 |               40 |        0 |\n",
      "| 272 | 21.6397 |              10 |        253.074 |              0 |               40 |        0 |\n",
      "| 275 | 21.6397 |              10 |        253.074 |              0 |               40 |        0 |\n",
      "| 278 | 21.6397 |               9 |        253.074 |              0 |               40 |        0 |\n",
      "| 285 | 21.6397 |              10 |        253.074 |              0 |               40 |        0 |\n",
      "| 290 | 21.6397 |              13 |        253.074 |              0 |               40 |        1 |\n",
      "| 295 | 21.6397 |               7 |        253.074 |              0 |               40 |        0 |\n",
      "| 298 | 21.6397 |               9 |        253.074 |              0 |               40 |        0 |\n",
      "| 301 | 21.6397 |               7 |        253.074 |              0 |               40 |        0 |\n",
      "| 302 | 21.6397 |               9 |        253.074 |              0 |               55 |        0 |\n",
      "| 304 | 21.6397 |              13 |        253.074 |              0 |               40 |        0 |\n",
      "| 313 | 21.6397 |               9 |        253.074 |              0 |               40 |        0 |\n",
      "| 315 | 21.6397 |               9 |        253.074 |              0 |               50 |        1 |\n",
      "| 335 | 21.6397 |              13 |        253.074 |              0 |               40 |        0 |\n",
      "| 336 | 21.6397 |               9 |        253.074 |              0 |               40 |        0 |\n",
      "| 342 | 21.6397 |              10 |        253.074 |              0 |               40 |        0 |\n",
      "| 343 | 21.6397 |              10 |        253.074 |              0 |               40 |        0 |\n",
      "| 346 | 21.6397 |              10 |        253.074 |              0 |               40 |        0 |\n",
      "| 358 | 21.6397 |               9 |        253.074 |              0 |               40 |        0 |\n",
      "| 366 | 21.6397 |               9 |        253.074 |              0 |               45 |        0 |\n",
      "| 371 | 21.6397 |               7 |        253.074 |              0 |               40 |        0 |\n",
      "| 377 | 21.6397 |               9 |        253.074 |              0 |               40 |        0 |\n",
      "| 378 | 21.6397 |              13 |        253.074 |              0 |               40 |        0 |\n",
      "| 381 | 21.6397 |               9 |        253.074 |              0 |               40 |        0 |\n",
      "| 382 | 21.6397 |               9 |        253.074 |              0 |               40 |        0 |\n",
      "| 386 | 21.6397 |              10 |        253.074 |              0 |               40 |        0 |\n",
      "| 390 | 21.6397 |              12 |        253.074 |              0 |               40 |        0 |\n",
      "| 402 | 21.6397 |               7 |        253.074 |              0 |               40 |        0 |\n",
      "| 407 | 21.6397 |              14 |        253.074 |              0 |               50 |        0 |\n",
      "| 414 | 21.6397 |              10 |        253.074 |              0 |               50 |        0 |\n",
      "| 415 | 21.6397 |              10 |        253.074 |              0 |               40 |        0 |\n",
      "| 416 | 21.6397 |              12 |        253.074 |              0 |               40 |        0 |\n",
      "| 424 | 21.6397 |              13 |        253.074 |              0 |               40 |        0 |\n",
      "| 433 | 21.6397 |               9 |        253.074 |              0 |               40 |        0 |\n",
      "| 445 | 21.6397 |               9 |        253.074 |              0 |               40 |        0 |\n",
      "| 446 | 21.6397 |              11 |        253.074 |              0 |               50 |        0 |\n",
      "| 459 | 21.6397 |               9 |        253.074 |              0 |               40 |        0 |\n",
      "| 460 | 21.6397 |              10 |        253.074 |              0 |               40 |        0 |\n",
      "| 463 | 21.6397 |               9 |        253.074 |              0 |               40 |        0 |\n",
      "| 467 | 21.6397 |               9 |        253.074 |              0 |               40 |        0 |\n",
      "| 470 | 21.6397 |              10 |        253.074 |              0 |               50 |        0 |\n",
      "| 475 | 21.6397 |               7 |        253.074 |              0 |               40 |        0 |\n",
      "| 483 | 21.6397 |               7 |        253.074 |              0 |               40 |        0 |\n",
      "| 484 | 21.6397 |              10 |        253.074 |              0 |               40 |        0 |\n",
      "| 486 | 21.6397 |              10 |        253.074 |              0 |               40 |        0 |\n",
      "| 488 | 21.6397 |              10 |        253.074 |              0 |               40 |        0 |\n",
      "| 489 | 21.6397 |              10 |        253.074 |              0 |               40 |        0 |\n",
      "| 496 | 21.6397 |              10 |        253.074 |              0 |               40 |        0 |\n",
      "| 498 | 21.6397 |              10 |        253.074 |              0 |               40 |        0 |\n",
      "| 500 | 21.6397 |               7 |        253.074 |              0 |               40 |        0 |\n",
      "| 504 | 21.6397 |               8 |        253.074 |              0 |               40 |        0 |\n",
      "| 513 | 21.6397 |              13 |        253.074 |              0 |               40 |        0 |\n",
      "| 514 | 21.6397 |               7 |        253.074 |              0 |               40 |        0 |\n",
      "| 522 | 21.6397 |              13 |        253.074 |              0 |               40 |        0 |\n",
      "| 534 | 21.6397 |               7 |        253.074 |              0 |               40 |        0 |\n",
      "| 538 | 21.6397 |              10 |        253.074 |              0 |               40 |        0 |\n",
      "| 539 | 21.6397 |               9 |        253.074 |              0 |               40 |        0 |\n",
      "| 545 | 21.6397 |              10 |        253.074 |              0 |               40 |        0 |\n",
      "| 547 | 21.6397 |              10 |        253.074 |              0 |               40 |        0 |\n",
      "| 552 | 21.6397 |              13 |        253.074 |              0 |               40 |        0 |\n",
      "| 555 | 21.6397 |              12 |        253.074 |              0 |               40 |        0 |\n",
      "| 564 | 21.6397 |              11 |        253.074 |              0 |               40 |        0 |\n",
      "| 567 | 21.6397 |              10 |        253.074 |              0 |               40 |        0 |\n",
      "| 573 | 21.6397 |               9 |        253.074 |              0 |               40 |        0 |\n",
      "| 574 | 21.6397 |               7 |        253.074 |              0 |               40 |        0 |\n",
      "| 575 | 21.6397 |               6 |        253.074 |              0 |               40 |        0 |\n",
      "| 576 | 21.6397 |              10 |        253.074 |              0 |               50 |        0 |\n",
      "| 590 | 21.6397 |               9 |        253.074 |              0 |               40 |        0 |\n",
      "| 592 | 21.6397 |               9 |        253.074 |              0 |               40 |        0 |\n",
      "+-----+---------+-----------------+----------------+----------------+------------------+----------+\n",
      "Partition 7\n",
      "+-----+-------+-----------------+----------------+----------------+------------------+----------+\n",
      "|     |   age |   education-num |   capital-gain |   capital-loss |   hours-per-week |   income |\n",
      "|-----+-------+-----------------+----------------+----------------+------------------+----------|\n",
      "|  55 |    34 |              13 |        653.667 |        90.5714 |               40 |        0 |\n",
      "|  81 |    34 |              10 |        653.667 |        90.5714 |               40 |        0 |\n",
      "| 106 |    34 |              14 |        653.667 |        90.5714 |               50 |        0 |\n",
      "| 165 |    34 |              13 |        653.667 |        90.5714 |               40 |        0 |\n",
      "| 239 |    34 |               4 |        653.667 |        90.5714 |               40 |        0 |\n",
      "| 246 |    34 |               9 |        653.667 |        90.5714 |               40 |        0 |\n",
      "| 259 |    34 |              13 |        653.667 |        90.5714 |               40 |        0 |\n",
      "| 264 |    34 |               6 |        653.667 |        90.5714 |               40 |        0 |\n",
      "| 283 |    34 |              13 |        653.667 |        90.5714 |               40 |        1 |\n",
      "| 296 |    34 |               9 |        653.667 |        90.5714 |               40 |        1 |\n",
      "| 318 |    34 |               9 |        653.667 |        90.5714 |               40 |        0 |\n",
      "| 345 |    34 |               9 |        653.667 |        90.5714 |               40 |        0 |\n",
      "| 379 |    34 |              14 |        653.667 |        90.5714 |               40 |        1 |\n",
      "| 385 |    34 |               9 |        653.667 |        90.5714 |               40 |        0 |\n",
      "| 419 |    34 |              13 |        653.667 |        90.5714 |               40 |        1 |\n",
      "| 425 |    34 |              13 |        653.667 |        90.5714 |               40 |        0 |\n",
      "| 525 |    34 |               3 |        653.667 |        90.5714 |               40 |        0 |\n",
      "| 535 |    34 |               9 |        653.667 |        90.5714 |               40 |        0 |\n",
      "| 540 |    34 |              10 |        653.667 |        90.5714 |               40 |        0 |\n",
      "| 550 |    34 |               9 |        653.667 |        90.5714 |               40 |        0 |\n",
      "| 588 |    34 |               9 |        653.667 |        90.5714 |               40 |        0 |\n",
      "+-----+-------+-----------------+----------------+----------------+------------------+----------+\n",
      "Partition 8\n",
      "+-----+---------+-----------------+----------------+----------------+------------------+----------+\n",
      "|     |     age |   education-num |   capital-gain |   capital-loss |   hours-per-week |   income |\n",
      "|-----+---------+-----------------+----------------+----------------+------------------+----------|\n",
      "|  42 | 35.3871 |               9 |              0 |        61.3548 |               60 |        1 |\n",
      "|  59 | 35.3871 |               9 |              0 |        61.3548 |               60 |        0 |\n",
      "|  82 | 35.3871 |               5 |              0 |        61.3548 |               80 |        0 |\n",
      "| 112 | 35.3871 |              13 |              0 |        61.3548 |               70 |        0 |\n",
      "| 143 | 35.3871 |              13 |              0 |        61.3548 |               40 |        0 |\n",
      "| 162 | 35.3871 |               8 |              0 |        61.3548 |               40 |        0 |\n",
      "| 166 | 35.3871 |              10 |              0 |        61.3548 |               40 |        0 |\n",
      "| 183 | 35.3871 |               9 |              0 |        61.3548 |               40 |        1 |\n",
      "| 184 | 35.3871 |              10 |              0 |        61.3548 |               50 |        0 |\n",
      "| 197 | 35.3871 |              10 |              0 |        61.3548 |               40 |        0 |\n",
      "| 223 | 35.3871 |              10 |              0 |        61.3548 |               50 |        0 |\n",
      "| 247 | 35.3871 |              11 |              0 |        61.3548 |               40 |        0 |\n",
      "| 256 | 35.3871 |              14 |              0 |        61.3548 |               40 |        1 |\n",
      "| 288 | 35.3871 |               4 |              0 |        61.3548 |               40 |        0 |\n",
      "| 319 | 35.3871 |               9 |              0 |        61.3548 |               60 |        0 |\n",
      "| 320 | 35.3871 |              13 |              0 |        61.3548 |               40 |        0 |\n",
      "| 357 | 35.3871 |              13 |              0 |        61.3548 |               50 |        1 |\n",
      "| 362 | 35.3871 |              12 |              0 |        61.3548 |               45 |        1 |\n",
      "| 374 | 35.3871 |               9 |              0 |        61.3548 |               40 |        0 |\n",
      "| 383 | 35.3871 |              13 |              0 |        61.3548 |               50 |        0 |\n",
      "| 387 | 35.3871 |               9 |              0 |        61.3548 |               40 |        0 |\n",
      "| 437 | 35.3871 |              13 |              0 |        61.3548 |               50 |        0 |\n",
      "| 449 | 35.3871 |               9 |              0 |        61.3548 |               60 |        0 |\n",
      "| 458 | 35.3871 |              10 |              0 |        61.3548 |               40 |        0 |\n",
      "| 461 | 35.3871 |               9 |              0 |        61.3548 |               60 |        0 |\n",
      "| 478 | 35.3871 |               9 |              0 |        61.3548 |               40 |        0 |\n",
      "| 548 | 35.3871 |              13 |              0 |        61.3548 |               40 |        1 |\n",
      "| 565 | 35.3871 |               9 |              0 |        61.3548 |               40 |        0 |\n",
      "| 569 | 35.3871 |               9 |              0 |        61.3548 |               40 |        1 |\n",
      "| 577 | 35.3871 |               9 |              0 |        61.3548 |               40 |        0 |\n",
      "| 580 | 35.3871 |              16 |              0 |        61.3548 |               40 |        0 |\n",
      "+-----+---------+-----------------+----------------+----------------+------------------+----------+\n",
      "Anonymized dataset generated\n",
      "Dataset satisfies 1-diversity\n",
      "Dataset satisfies 2-diversity\n",
      "Dataset does not satisfy 3-diversity\n",
      "Dataset satisfies maximum 2-diversity\n"
     ]
    },
    {
     "data": {
      "text/plain": "2"
     },
     "execution_count": 9,
     "metadata": {},
     "output_type": "execute_result"
    }
   ],
   "source": [
    "cm.find_l_diversity(k_anonymdf, QI, sensitive_column)\n",
    "l_diversedf = an.anonymize_l_diversity(df, QI, sensitive_column, 10, 2)\n",
    "cm.find_l_diversity(l_diversedf, QI, sensitive_column)"
   ],
   "metadata": {
    "collapsed": false,
    "ExecuteTime": {
     "end_time": "2023-09-25T20:48:27.843880Z",
     "start_time": "2023-09-25T20:48:27.746154Z"
    }
   }
  },
  {
   "cell_type": "markdown",
   "source": [
    "## T-closeness\n",
    "Tries to create partitions so that the distribution of the sensitive column is similar to the entire dataset"
   ],
   "metadata": {
    "collapsed": false
   }
  },
  {
   "cell_type": "code",
   "execution_count": 10,
   "outputs": [
    {
     "name": "stdout",
     "output_type": "stream",
     "text": [
      "=========Start anonymization process:\n",
      "Partition the dataset:\n",
      "33 partitions created.\n",
      "Changing quasi-identifiers values with the aggregation of their partition\n",
      "Showcasing some of the anonymized partition:\n",
      "Partition 30\n",
      "+-----+---------+-----------------+----------------+----------------+------------------+----------+\n",
      "|     |     age |   education-num |   capital-gain |   capital-loss |   hours-per-week |   income |\n",
      "|-----+---------+-----------------+----------------+----------------+------------------+----------|\n",
      "| 179 | 63.6154 |               5 |        2802.15 |        146.308 |               40 |        0 |\n",
      "| 203 | 63.6154 |               2 |        2802.15 |        146.308 |               48 |        0 |\n",
      "| 231 | 63.6154 |              11 |        2802.15 |        146.308 |               40 |        0 |\n",
      "| 254 | 63.6154 |              10 |        2802.15 |        146.308 |               20 |        0 |\n",
      "| 279 | 63.6154 |               9 |        2802.15 |        146.308 |               40 |        0 |\n",
      "| 317 | 63.6154 |              16 |        2802.15 |        146.308 |               50 |        1 |\n",
      "| 328 | 63.6154 |              10 |        2802.15 |        146.308 |               40 |        1 |\n",
      "| 329 | 63.6154 |               5 |        2802.15 |        146.308 |               50 |        1 |\n",
      "| 369 | 63.6154 |              10 |        2802.15 |        146.308 |               40 |        0 |\n",
      "| 373 | 63.6154 |              13 |        2802.15 |        146.308 |               50 |        1 |\n",
      "| 375 | 63.6154 |               9 |        2802.15 |        146.308 |               48 |        1 |\n",
      "| 477 | 63.6154 |               9 |        2802.15 |        146.308 |               40 |        0 |\n",
      "| 586 | 63.6154 |               9 |        2802.15 |        146.308 |               50 |        1 |\n",
      "+-----+---------+-----------------+----------------+----------------+------------------+----------+\n",
      "Partition 4\n",
      "+-----+-------+-----------------+----------------+----------------+------------------+----------+\n",
      "|     |   age |   education-num |   capital-gain |   capital-loss |   hours-per-week |   income |\n",
      "|-----+-------+-----------------+----------------+----------------+------------------+----------|\n",
      "|  43 |    19 |               1 |        70.3333 |              0 |               40 |        0 |\n",
      "|  88 |    19 |              10 |        70.3333 |              0 |               40 |        0 |\n",
      "| 117 |    19 |               9 |        70.3333 |              0 |               55 |        0 |\n",
      "| 129 |    19 |              10 |        70.3333 |              0 |               40 |        0 |\n",
      "| 134 |    19 |               9 |        70.3333 |              0 |               40 |        0 |\n",
      "| 302 |    19 |               9 |        70.3333 |              0 |               55 |        0 |\n",
      "| 342 |    19 |              10 |        70.3333 |              0 |               40 |        0 |\n",
      "| 433 |    19 |               9 |        70.3333 |              0 |               40 |        0 |\n",
      "| 445 |    19 |               9 |        70.3333 |              0 |               40 |        0 |\n",
      "| 459 |    19 |               9 |        70.3333 |              0 |               40 |        0 |\n",
      "| 460 |    19 |              10 |        70.3333 |              0 |               40 |        0 |\n",
      "| 488 |    19 |              10 |        70.3333 |              0 |               40 |        0 |\n",
      "| 498 |    19 |              10 |        70.3333 |              0 |               40 |        0 |\n",
      "| 573 |    19 |               9 |        70.3333 |              0 |               40 |        0 |\n",
      "| 575 |    19 |               6 |        70.3333 |              0 |               40 |        0 |\n",
      "+-----+-------+-----------------+----------------+----------------+------------------+----------+\n",
      "Partition 27\n",
      "+-----+-------+-----------------+----------------+----------------+------------------+----------+\n",
      "|     |   age |   education-num |   capital-gain |   capital-loss |   hours-per-week |   income |\n",
      "|-----+-------+-----------------+----------------+----------------+------------------+----------|\n",
      "|  67 |    54 |               9 |        11159.5 |          190.2 |               40 |        1 |\n",
      "| 130 |    54 |              13 |        11159.5 |          190.2 |               50 |        1 |\n",
      "| 172 |    54 |               9 |        11159.5 |          190.2 |               50 |        1 |\n",
      "| 294 |    54 |              13 |        11159.5 |          190.2 |               50 |        0 |\n",
      "| 307 |    54 |              14 |        11159.5 |          190.2 |               40 |        1 |\n",
      "| 324 |    54 |              13 |        11159.5 |          190.2 |               40 |        1 |\n",
      "| 325 |    54 |               9 |        11159.5 |          190.2 |               40 |        0 |\n",
      "| 431 |    54 |               9 |        11159.5 |          190.2 |               40 |        1 |\n",
      "| 447 |    54 |              10 |        11159.5 |          190.2 |               50 |        0 |\n",
      "| 561 |    54 |              15 |        11159.5 |          190.2 |               50 |        1 |\n",
      "+-----+-------+-----------------+----------------+----------------+------------------+----------+\n",
      "Anonymized dataset generated\n"
     ]
    }
   ],
   "source": [
    "t_closedf = an.anonymize_t_closeness(df, QI, sensitive_column, k = 8, t=1)\n"
   ],
   "metadata": {
    "collapsed": false,
    "ExecuteTime": {
     "end_time": "2023-09-25T20:48:27.976001Z",
     "start_time": "2023-09-25T20:48:27.845040Z"
    }
   }
  },
  {
   "cell_type": "markdown",
   "source": [
    "## Using the anonymized data as input to ML model"
   ],
   "metadata": {
    "collapsed": false
   }
  },
  {
   "cell_type": "code",
   "execution_count": 11,
   "outputs": [
    {
     "name": "stdout",
     "output_type": "stream",
     "text": [
      "Accuracy on k_anonymized/minimized data:  0.7016666666666667\n",
      "Accuracy on l_diversed/minimized data:  0.6983333333333334\n",
      "Accuracy on t_close/minimized data:  0.6983333333333334\n"
     ]
    }
   ],
   "source": [
    "print('Accuracy on k_anonymized/minimized data: ', model.score(test_data=ArrayDataset(k_anonymdf[features], y_test)))\n",
    "print('Accuracy on l_diversed/minimized data: ', model.score(test_data=ArrayDataset(l_diversedf[features], y_test)))\n",
    "print('Accuracy on t_close/minimized data: ', model.score(test_data=ArrayDataset(t_closedf[features], y_test)))\n"
   ],
   "metadata": {
    "collapsed": false,
    "ExecuteTime": {
     "end_time": "2023-09-25T20:48:27.980981Z",
     "start_time": "2023-09-25T20:48:27.978016Z"
    }
   }
  },
  {
   "cell_type": "markdown",
   "source": [],
   "metadata": {
    "collapsed": false
   }
  },
  {
   "cell_type": "markdown",
   "source": [],
   "metadata": {
    "collapsed": false
   }
  },
  {
   "cell_type": "markdown",
   "metadata": {},
   "source": []
  }
 ],
 "metadata": {
  "kernelspec": {
   "display_name": "Python 3",
   "language": "python",
   "name": "python3"
  },
  "language_info": {
   "codemirror_mode": {
    "name": "ipython",
    "version": 3
   },
   "file_extension": ".py",
   "mimetype": "text/x-python",
   "name": "python",
   "nbconvert_exporter": "python",
   "pygments_lexer": "ipython3",
   "version": "3.8.3"
  }
 },
 "nbformat": 4,
 "nbformat_minor": 2
}
